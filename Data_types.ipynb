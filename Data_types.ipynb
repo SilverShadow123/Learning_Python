{
 "cells": [
  {
   "cell_type": "code",
   "execution_count": 1,
   "id": "8d6f9a2f-f865-4fc2-8602-58d762b1d527",
   "metadata": {},
   "outputs": [
    {
     "name": "stdout",
     "output_type": "stream",
     "text": [
      "Hello world\n"
     ]
    }
   ],
   "source": [
    "print('Hello world')"
   ]
  },
  {
   "cell_type": "code",
   "execution_count": 1,
   "id": "51bd069f-ef0d-4b09-b0f9-2b816136a1c3",
   "metadata": {},
   "outputs": [
    {
     "data": {
      "text/plain": [
       "int"
      ]
     },
     "execution_count": 1,
     "metadata": {},
     "output_type": "execute_result"
    }
   ],
   "source": [
    "num =5\n",
    "type(num)"
   ]
  },
  {
   "cell_type": "code",
   "execution_count": 2,
   "id": "7aa5460f-40d3-4474-bf05-edfdb64c170f",
   "metadata": {},
   "outputs": [],
   "source": [
    "num=5.4"
   ]
  },
  {
   "cell_type": "code",
   "execution_count": 3,
   "id": "45f0bf30-54e9-40e4-a92d-9b76ba1454df",
   "metadata": {},
   "outputs": [
    {
     "data": {
      "text/plain": [
       "float"
      ]
     },
     "execution_count": 3,
     "metadata": {},
     "output_type": "execute_result"
    }
   ],
   "source": [
    "num=5.5\n",
    "type(num)"
   ]
  },
  {
   "cell_type": "code",
   "execution_count": 4,
   "id": "022da229-d899-467e-bb8b-0d987979860c",
   "metadata": {},
   "outputs": [],
   "source": [
    "num=4+4j"
   ]
  },
  {
   "cell_type": "code",
   "execution_count": 5,
   "id": "b8354f72-493c-4a8a-b658-d93d936d60b8",
   "metadata": {},
   "outputs": [
    {
     "data": {
      "text/plain": [
       "complex"
      ]
     },
     "execution_count": 5,
     "metadata": {},
     "output_type": "execute_result"
    }
   ],
   "source": [
    "num=5+3j\n",
    "type(num)"
   ]
  },
  {
   "cell_type": "code",
   "execution_count": 6,
   "id": "2fb224ab-d0ba-468e-8778-1bf4a3f160b7",
   "metadata": {},
   "outputs": [
    {
     "data": {
      "text/plain": [
       "5.0"
      ]
     },
     "execution_count": 6,
     "metadata": {},
     "output_type": "execute_result"
    }
   ],
   "source": [
    "num.real"
   ]
  },
  {
   "cell_type": "code",
   "execution_count": 7,
   "id": "6547084e-939a-4d65-814b-7f9b50be9982",
   "metadata": {},
   "outputs": [
    {
     "data": {
      "text/plain": [
       "3.0"
      ]
     },
     "execution_count": 7,
     "metadata": {},
     "output_type": "execute_result"
    }
   ],
   "source": [
    "num.imag"
   ]
  },
  {
   "cell_type": "code",
   "execution_count": 10,
   "id": "ea3fb8cb-16e9-4b6e-a32c-d36b5891b0cd",
   "metadata": {},
   "outputs": [
    {
     "data": {
      "text/plain": [
       "-23.1234"
      ]
     },
     "execution_count": 10,
     "metadata": {},
     "output_type": "execute_result"
    }
   ],
   "source": [
    "num=-23.1234\n",
    "num"
   ]
  },
  {
   "cell_type": "markdown",
   "id": "82ebd826-214a-4174-b62a-01c5fa5e47a5",
   "metadata": {},
   "source": [
    "Conversions"
   ]
  },
  {
   "cell_type": "code",
   "execution_count": 14,
   "id": "a509c3b6-cd91-4705-9d69-c15a46f28744",
   "metadata": {},
   "outputs": [
    {
     "data": {
      "text/plain": [
       "str"
      ]
     },
     "execution_count": 14,
     "metadata": {},
     "output_type": "execute_result"
    }
   ],
   "source": [
    "x=\"192\"\n",
    "type(x)"
   ]
  },
  {
   "cell_type": "code",
   "execution_count": 15,
   "id": "e67d7931-d9ed-4d56-80b9-d55e8ceb17e2",
   "metadata": {},
   "outputs": [
    {
     "data": {
      "text/plain": [
       "192"
      ]
     },
     "execution_count": 15,
     "metadata": {},
     "output_type": "execute_result"
    }
   ],
   "source": [
    "int(x)"
   ]
  },
  {
   "cell_type": "code",
   "execution_count": 19,
   "id": "84b7129d-7c3e-4cea-bf6b-323d9ad07ca8",
   "metadata": {},
   "outputs": [
    {
     "data": {
      "text/plain": [
       "float"
      ]
     },
     "execution_count": 19,
     "metadata": {},
     "output_type": "execute_result"
    }
   ],
   "source": [
    "x=int(x)\n",
    "type(x)\n",
    "x = float(x)\n",
    "type(x)"
   ]
  },
  {
   "cell_type": "code",
   "execution_count": 20,
   "id": "b3ec8c73-7f46-4a8e-a14c-6f18f87d3a99",
   "metadata": {},
   "outputs": [
    {
     "name": "stdout",
     "output_type": "stream",
     "text": [
      "(192+0j)\n"
     ]
    }
   ],
   "source": [
    "x=complex(x)\n",
    "print(x)"
   ]
  },
  {
   "cell_type": "code",
   "execution_count": 21,
   "id": "cd55651e-8d2d-460e-b66b-7cf72f9fa758",
   "metadata": {},
   "outputs": [
    {
     "name": "stdout",
     "output_type": "stream",
     "text": [
      "(2+6j)\n"
     ]
    }
   ],
   "source": [
    "print(complex(2,6))"
   ]
  },
  {
   "cell_type": "markdown",
   "id": "f9eb2fa6-c0b2-4c35-b95a-1b27da328c9b",
   "metadata": {},
   "source": [
    "Functions"
   ]
  },
  {
   "cell_type": "code",
   "execution_count": 23,
   "id": "96527260-f7fb-48ed-8916-ed4265d4385d",
   "metadata": {},
   "outputs": [
    {
     "name": "stdout",
     "output_type": "stream",
     "text": [
      "7.5\n"
     ]
    }
   ],
   "source": [
    "x=-7.5\n",
    "print(abs(x))"
   ]
  },
  {
   "cell_type": "code",
   "execution_count": 24,
   "id": "c49e6546-de07-4baa-baf8-c064cf59fde1",
   "metadata": {},
   "outputs": [
    {
     "name": "stdout",
     "output_type": "stream",
     "text": [
      "22026.465794806718\n"
     ]
    }
   ],
   "source": [
    "import math\n",
    "x=10\n",
    "print(math.exp(x))"
   ]
  },
  {
   "cell_type": "code",
   "execution_count": 25,
   "id": "c87b9891-e416-4aab-bfb3-3fab76cbffab",
   "metadata": {},
   "outputs": [
    {
     "data": {
      "text/plain": [
       "2.718281828459045"
      ]
     },
     "execution_count": 25,
     "metadata": {},
     "output_type": "execute_result"
    }
   ],
   "source": [
    "math.e"
   ]
  },
  {
   "cell_type": "code",
   "execution_count": 26,
   "id": "43fd4dc8-4c58-480d-86d4-ac32a13d09e3",
   "metadata": {},
   "outputs": [
    {
     "data": {
      "text/plain": [
       "3.141592653589793"
      ]
     },
     "execution_count": 26,
     "metadata": {},
     "output_type": "execute_result"
    }
   ],
   "source": [
    "math.pi"
   ]
  },
  {
   "cell_type": "code",
   "execution_count": 27,
   "id": "e33de40c-268b-446e-ad34-ffa775033618",
   "metadata": {},
   "outputs": [
    {
     "name": "stdout",
     "output_type": "stream",
     "text": [
      "2.0\n"
     ]
    }
   ],
   "source": [
    "print(math.sqrt(4))"
   ]
  },
  {
   "cell_type": "code",
   "execution_count": 28,
   "id": "4761d9f5-e868-40e6-939c-9620253fa817",
   "metadata": {},
   "outputs": [
    {
     "ename": "AttributeError",
     "evalue": "module 'math' has no attribute 'sqr'",
     "output_type": "error",
     "traceback": [
      "\u001B[1;31m---------------------------------------------------------------------------\u001B[0m",
      "\u001B[1;31mAttributeError\u001B[0m                            Traceback (most recent call last)",
      "Cell \u001B[1;32mIn[28], line 1\u001B[0m\n\u001B[1;32m----> 1\u001B[0m \u001B[38;5;28mprint\u001B[39m(math\u001B[38;5;241m.\u001B[39msqr(\u001B[38;5;241m4\u001B[39m))\n",
      "\u001B[1;31mAttributeError\u001B[0m: module 'math' has no attribute 'sqr'"
     ]
    }
   ],
   "source": [
    "print(math.sqr(4))"
   ]
  },
  {
   "cell_type": "code",
   "execution_count": 29,
   "id": "dc89e6a7-7e32-4850-9537-5ac572412bd4",
   "metadata": {},
   "outputs": [
    {
     "data": {
      "text/plain": [
       "123434"
      ]
     },
     "execution_count": 29,
     "metadata": {},
     "output_type": "execute_result"
    }
   ],
   "source": [
    "max(2,3,1234,123434,4235,1)"
   ]
  },
  {
   "cell_type": "code",
   "execution_count": 30,
   "id": "38d86ebb-6936-44f7-8a0e-307a82759ee4",
   "metadata": {},
   "outputs": [
    {
     "data": {
      "text/plain": [
       "1"
      ]
     },
     "execution_count": 30,
     "metadata": {},
     "output_type": "execute_result"
    }
   ],
   "source": [
    "min(3,4,1,2345,345,42,1234)"
   ]
  },
  {
   "cell_type": "markdown",
   "id": "99f08115-cacc-49cc-9437-71ef8fdf0323",
   "metadata": {},
   "source": [
    "Creating LIST"
   ]
  },
  {
   "cell_type": "code",
   "execution_count": 31,
   "id": "1ef673d6-4238-4800-af3b-65dfe2d393c2",
   "metadata": {},
   "outputs": [],
   "source": [
    "num=[1,3,2,5]"
   ]
  },
  {
   "cell_type": "code",
   "execution_count": 32,
   "id": "3054c2e3-5839-4d87-a5a8-0dad7ccfbea3",
   "metadata": {},
   "outputs": [
    {
     "name": "stdout",
     "output_type": "stream",
     "text": [
      "[1, 3, 2, 5]\n"
     ]
    }
   ],
   "source": [
    "print(num)"
   ]
  },
  {
   "cell_type": "code",
   "execution_count": 33,
   "id": "98b8499c-1b59-46e4-9cec-5bbfcdeb1e3e",
   "metadata": {},
   "outputs": [
    {
     "name": "stdout",
     "output_type": "stream",
     "text": [
      "['a', 'b', 's']\n"
     ]
    }
   ],
   "source": [
    "letter=['a','b','s']\n",
    "print(letter)"
   ]
  },
  {
   "cell_type": "code",
   "execution_count": 35,
   "id": "e604b026-0bdf-40e8-94f8-1da56f0c231a",
   "metadata": {},
   "outputs": [
    {
     "name": "stdout",
     "output_type": "stream",
     "text": [
      "['get', 'certified', 'get', 'aghed']\n"
     ]
    }
   ],
   "source": [
    "stg=['get','certified','get','aghed']\n",
    "print(stg)"
   ]
  },
  {
   "cell_type": "code",
   "execution_count": 7,
   "id": "c05d2c67-0001-4304-96bf-e71116f73f5e",
   "metadata": {},
   "outputs": [],
   "source": [
    "mix =[1,2,3,'simple','get',2,3]"
   ]
  },
  {
   "cell_type": "code",
   "execution_count": 8,
   "id": "b10fda4d-6fd5-45a1-bfaf-7e40074624e7",
   "metadata": {},
   "outputs": [
    {
     "name": "stdout",
     "output_type": "stream",
     "text": [
      "[1, 2, 3, 'simple', 'get', 2, 3]\n"
     ]
    }
   ],
   "source": [
    "print(mix)"
   ]
  },
  {
   "cell_type": "code",
   "execution_count": 9,
   "id": "36ea3075-f2ae-4ca0-8d51-6d0fabe83d44",
   "metadata": {},
   "outputs": [
    {
     "name": "stdout",
     "output_type": "stream",
     "text": [
      "[[2, 4], ['a', 'b']]\n"
     ]
    }
   ],
   "source": [
    "mat=[[2,4],['a','b']]\n",
    "print(mat)"
   ]
  },
  {
   "cell_type": "markdown",
   "id": "1c67d637-54a2-4b3d-bea6-791de7648ab4",
   "metadata": {},
   "source": [
    "Accessing elements in lists"
   ]
  },
  {
   "cell_type": "code",
   "execution_count": 10,
   "id": "2c7a08c0-e72b-4b12-87a6-88bed15d714f",
   "metadata": {},
   "outputs": [
    {
     "name": "stdout",
     "output_type": "stream",
     "text": [
      "[1, 2, 3, 'simple', 'get', 2, 3]\n"
     ]
    }
   ],
   "source": [
    "print(mix)"
   ]
  },
  {
   "cell_type": "code",
   "execution_count": 11,
   "id": "67bb9f15-e8ab-4cc2-8401-df02889890f9",
   "metadata": {},
   "outputs": [
    {
     "data": {
      "text/plain": [
       "3"
      ]
     },
     "execution_count": 11,
     "metadata": {},
     "output_type": "execute_result"
    }
   ],
   "source": [
    "mix[2]"
   ]
  },
  {
   "cell_type": "code",
   "execution_count": 12,
   "id": "7100891d-ec25-4c4a-9ffb-626cb686bac4",
   "metadata": {},
   "outputs": [
    {
     "data": {
      "text/plain": [
       "2"
      ]
     },
     "execution_count": 12,
     "metadata": {},
     "output_type": "execute_result"
    }
   ],
   "source": [
    "mix[-2]"
   ]
  },
  {
   "cell_type": "code",
   "execution_count": 14,
   "id": "9f11f2bd-6dc4-4f96-935e-f0817099d61d",
   "metadata": {},
   "outputs": [
    {
     "data": {
      "text/plain": [
       "[1, 2, 3, 'simple']"
      ]
     },
     "execution_count": 14,
     "metadata": {},
     "output_type": "execute_result"
    }
   ],
   "source": [
    "mix[:4]"
   ]
  },
  {
   "cell_type": "code",
   "execution_count": 15,
   "id": "fe381c2b-2993-4c80-8fb9-055493db9057",
   "metadata": {},
   "outputs": [
    {
     "data": {
      "text/plain": [
       "['get', 2, 3]"
      ]
     },
     "execution_count": 15,
     "metadata": {},
     "output_type": "execute_result"
    }
   ],
   "source": [
    "mix[4:]"
   ]
  },
  {
   "cell_type": "code",
   "execution_count": 18,
   "id": "0fd6fce4-f32e-4030-989e-bd55669b1eab",
   "metadata": {},
   "outputs": [
    {
     "data": {
      "text/plain": [
       "[1, 3, 'get', 3]"
      ]
     },
     "execution_count": 18,
     "metadata": {},
     "output_type": "execute_result"
    }
   ],
   "source": [
    "mix[2:5]\n",
    "mix[::2]"
   ]
  },
  {
   "cell_type": "code",
   "execution_count": 19,
   "id": "c8e3c696-1673-4f47-84eb-9fb55582df6d",
   "metadata": {},
   "outputs": [
    {
     "data": {
      "text/plain": [
       "[3, 2, 'get', 'simple', 3, 2, 1]"
      ]
     },
     "execution_count": 19,
     "metadata": {},
     "output_type": "execute_result"
    }
   ],
   "source": [
    "mix[::-1]"
   ]
  },
  {
   "cell_type": "markdown",
   "id": "cd06ec69-6ac7-42eb-acfa-4cde8937e01d",
   "metadata": {},
   "source": [
    "Operations on Lists"
   ]
  },
  {
   "cell_type": "code",
   "id": "3a39da2a-aab5-4e04-a221-c9a76cea123e",
   "metadata": {
    "ExecuteTime": {
     "end_time": "2025-10-05T19:19:10.437592Z",
     "start_time": "2025-10-05T19:19:10.432982Z"
    }
   },
   "source": [
    "z=[0]*100\n",
    "print(z)\n",
    "print(z)"
   ],
   "outputs": [
    {
     "name": "stdout",
     "output_type": "stream",
     "text": [
      "[0, 0, 0, 0, 0, 0, 0, 0, 0, 0, 0, 0, 0, 0, 0, 0, 0, 0, 0, 0, 0, 0, 0, 0, 0, 0, 0, 0, 0, 0, 0, 0, 0, 0, 0, 0, 0, 0, 0, 0, 0, 0, 0, 0, 0, 0, 0, 0, 0, 0, 0, 0, 0, 0, 0, 0, 0, 0, 0, 0, 0, 0, 0, 0, 0, 0, 0, 0, 0, 0, 0, 0, 0, 0, 0, 0, 0, 0, 0, 0, 0, 0, 0, 0, 0, 0, 0, 0, 0, 0, 0, 0, 0, 0, 0, 0, 0, 0, 0, 0]\n",
      "[0, 0, 0, 0, 0, 0, 0, 0, 0, 0, 0, 0, 0, 0, 0, 0, 0, 0, 0, 0, 0, 0, 0, 0, 0, 0, 0, 0, 0, 0, 0, 0, 0, 0, 0, 0, 0, 0, 0, 0, 0, 0, 0, 0, 0, 0, 0, 0, 0, 0, 0, 0, 0, 0, 0, 0, 0, 0, 0, 0, 0, 0, 0, 0, 0, 0, 0, 0, 0, 0, 0, 0, 0, 0, 0, 0, 0, 0, 0, 0, 0, 0, 0, 0, 0, 0, 0, 0, 0, 0, 0, 0, 0, 0, 0, 0, 0, 0, 0, 0]\n"
     ]
    }
   ],
   "execution_count": 9
  },
  {
   "cell_type": "code",
   "execution_count": 25,
   "id": "237903f1-2b49-4996-8298-703820cd68b9",
   "metadata": {},
   "outputs": [],
   "source": [
    "letter=['a','b','x','f','g']"
   ]
  },
  {
   "cell_type": "code",
   "id": "1cff126e-d1c2-4246-8def-520c373b33cb",
   "metadata": {
    "ExecuteTime": {
     "end_time": "2025-10-05T19:19:22.889492Z",
     "start_time": "2025-10-05T19:19:22.886673Z"
    }
   },
   "source": [
    "stg=['get', 'certified', 'bat', 'ahead']"
   ],
   "outputs": [],
   "execution_count": 10
  },
  {
   "cell_type": "code",
   "id": "c24ad044-a7fa-47a8-9bcc-b265ac111619",
   "metadata": {
    "ExecuteTime": {
     "end_time": "2025-10-05T19:19:24.479677Z",
     "start_time": "2025-10-05T19:19:24.304870Z"
    }
   },
   "source": [
    "conc = letter + stg"
   ],
   "outputs": [
    {
     "ename": "NameError",
     "evalue": "name 'letter' is not defined",
     "output_type": "error",
     "traceback": [
      "\u001B[31m---------------------------------------------------------------------------\u001B[39m",
      "\u001B[31mNameError\u001B[39m                                 Traceback (most recent call last)",
      "\u001B[36mCell\u001B[39m\u001B[36m \u001B[39m\u001B[32mIn[11]\u001B[39m\u001B[32m, line 1\u001B[39m\n\u001B[32m----> \u001B[39m\u001B[32m1\u001B[39m conc = \u001B[43mletter\u001B[49m + stg\n",
      "\u001B[31mNameError\u001B[39m: name 'letter' is not defined"
     ]
    }
   ],
   "execution_count": 11
  },
  {
   "cell_type": "code",
   "id": "5a0ffb83-69e9-4a30-8ce2-85aeb517c357",
   "metadata": {
    "ExecuteTime": {
     "end_time": "2025-10-05T19:19:27.931837Z",
     "start_time": "2025-10-05T19:19:27.916071Z"
    }
   },
   "source": [
    "print(conc)"
   ],
   "outputs": [
    {
     "ename": "NameError",
     "evalue": "name 'conc' is not defined",
     "output_type": "error",
     "traceback": [
      "\u001B[31m---------------------------------------------------------------------------\u001B[39m",
      "\u001B[31mNameError\u001B[39m                                 Traceback (most recent call last)",
      "\u001B[36mCell\u001B[39m\u001B[36m \u001B[39m\u001B[32mIn[12]\u001B[39m\u001B[32m, line 1\u001B[39m\n\u001B[32m----> \u001B[39m\u001B[32m1\u001B[39m \u001B[38;5;28mprint\u001B[39m(\u001B[43mconc\u001B[49m)\n",
      "\u001B[31mNameError\u001B[39m: name 'conc' is not defined"
     ]
    }
   ],
   "execution_count": 12
  },
  {
   "cell_type": "code",
   "execution_count": 29,
   "id": "71bfcf8c-876d-48b8-bda3-1d62eedd0d01",
   "metadata": {},
   "outputs": [
    {
     "name": "stdout",
     "output_type": "stream",
     "text": [
      "['h', 'e', 'y', ' ', 't', 'h', 'e', 'r', 'e']\n"
     ]
    }
   ],
   "source": [
    "var= list(\"hey there\")\n",
    "print(var)"
   ]
  },
  {
   "cell_type": "code",
   "id": "ecb6cd5c-a199-4757-8502-77c3229f6bd1",
   "metadata": {
    "ExecuteTime": {
     "end_time": "2025-10-05T19:19:35.228539Z",
     "start_time": "2025-10-05T19:19:35.225262Z"
    }
   },
   "source": [
    "num=[1,2,3,4,5]"
   ],
   "outputs": [],
   "execution_count": 13
  },
  {
   "cell_type": "code",
   "id": "bc61f81f-e09a-47e7-96b4-2d6e8ac9d727",
   "metadata": {
    "ExecuteTime": {
     "end_time": "2025-10-05T19:19:35.988374Z",
     "start_time": "2025-10-05T19:19:35.984324Z"
    }
   },
   "source": [
    "one, *other=num\n",
    "print(one)\n",
    "print(other)"
   ],
   "outputs": [
    {
     "name": "stdout",
     "output_type": "stream",
     "text": [
      "1\n",
      "[2, 3, 4, 5]\n"
     ]
    }
   ],
   "execution_count": 14
  },
  {
   "cell_type": "raw",
   "id": "c66d0c82-1b73-4c14-86b3-a0265638fa24",
   "metadata": {},
   "source": [
    "Methods in lists"
   ]
  },
  {
   "cell_type": "code",
   "execution_count": 33,
   "id": "57ad1274-cd8c-4aef-ade5-0b426ceec4ba",
   "metadata": {},
   "outputs": [
    {
     "name": "stdout",
     "output_type": "stream",
     "text": [
      "hello\n"
     ]
    }
   ],
   "source": [
    "print('hello')"
   ]
  },
  {
   "cell_type": "code",
   "execution_count": 34,
   "id": "931e4aa4-1816-4b8d-a5f3-0a1ff842e910",
   "metadata": {},
   "outputs": [
    {
     "name": "stdout",
     "output_type": "stream",
     "text": [
      "[1, 2, 3, 4, 5]\n"
     ]
    }
   ],
   "source": [
    "print(num)"
   ]
  },
  {
   "cell_type": "code",
   "execution_count": 35,
   "id": "61a58b0f-8e76-49dd-b1b7-af9f164deed8",
   "metadata": {},
   "outputs": [],
   "source": [
    "num.append(6)"
   ]
  },
  {
   "cell_type": "code",
   "execution_count": 36,
   "id": "83169606-76ff-4506-9bb8-f883d9367760",
   "metadata": {},
   "outputs": [
    {
     "name": "stdout",
     "output_type": "stream",
     "text": [
      "[1, 2, 3, 4, 5, 6]\n"
     ]
    }
   ],
   "source": [
    "print(num)"
   ]
  },
  {
   "cell_type": "code",
   "execution_count": 37,
   "id": "81e88c53-6211-4b99-a636-2ffea1a5ea07",
   "metadata": {},
   "outputs": [
    {
     "name": "stdout",
     "output_type": "stream",
     "text": [
      "[1, 2, 3, 4, 5, 6, 'get', 'certified', 'bat', 'ahead']\n"
     ]
    }
   ],
   "source": [
    "num.extend(stg)\n",
    "print(num)"
   ]
  },
  {
   "cell_type": "code",
   "execution_count": 38,
   "id": "4b8db5b3-a116-4f71-b8aa-4f0557ea29db",
   "metadata": {},
   "outputs": [
    {
     "name": "stdout",
     "output_type": "stream",
     "text": [
      "[1, 2, 3, 4, 5, 'simle', 6, 'get', 'certified', 'bat', 'ahead']\n"
     ]
    }
   ],
   "source": [
    "num.insert(5, \"simle\")\n",
    "print(num)"
   ]
  },
  {
   "cell_type": "code",
   "execution_count": 39,
   "id": "6870a6b3-4675-43e0-b304-046ac23ccdaa",
   "metadata": {},
   "outputs": [],
   "source": [
    "num.remove(\"simle\")"
   ]
  },
  {
   "cell_type": "code",
   "execution_count": 40,
   "id": "3879b41f-a63d-4d06-9e6e-1688cedce05c",
   "metadata": {},
   "outputs": [
    {
     "name": "stdout",
     "output_type": "stream",
     "text": [
      "[1, 2, 3, 4, 5, 6, 'get', 'certified', 'bat', 'ahead']\n"
     ]
    }
   ],
   "source": [
    "print(num)"
   ]
  },
  {
   "cell_type": "code",
   "execution_count": 41,
   "id": "b214e640-fc32-4374-aa31-e47d112147db",
   "metadata": {},
   "outputs": [],
   "source": [
    "num.remove(2)"
   ]
  },
  {
   "cell_type": "code",
   "execution_count": 42,
   "id": "1c591388-c1d0-4b40-adb7-3a52b2f2ae3e",
   "metadata": {},
   "outputs": [
    {
     "name": "stdout",
     "output_type": "stream",
     "text": [
      "[1, 3, 4, 5, 6, 'get', 'certified', 'bat', 'ahead']\n"
     ]
    }
   ],
   "source": [
    "print(num)"
   ]
  },
  {
   "cell_type": "code",
   "execution_count": 43,
   "id": "554391ab-a45f-4a48-84a1-028c362fb708",
   "metadata": {},
   "outputs": [
    {
     "name": "stdout",
     "output_type": "stream",
     "text": [
      "[1, 3, 4, 5, 6, 'get', 'certified', 'bat', 'ahead']\n"
     ]
    }
   ],
   "source": [
    "num.sort\n",
    "print(num)"
   ]
  },
  {
   "cell_type": "code",
   "execution_count": 45,
   "id": "a8b98054-7af0-4aa0-99fd-96eb81a06796",
   "metadata": {},
   "outputs": [
    {
     "name": "stdout",
     "output_type": "stream",
     "text": [
      "[1, 2, 3, 5, 6, 7, 9]\n"
     ]
    }
   ],
   "source": [
    "got=[3,5,2,1,6,9,7]\n",
    "got.sort()\n",
    "print(got)"
   ]
  },
  {
   "cell_type": "markdown",
   "id": "af441d67-4b22-4e47-80cd-e46c5a387bb8",
   "metadata": {},
   "source": [
    "Built-in functions with lists"
   ]
  },
  {
   "cell_type": "code",
   "execution_count": 46,
   "id": "243d249e-dd1f-4123-9fb4-c1fc6f7bcb94",
   "metadata": {},
   "outputs": [],
   "source": [
    "x=[8,6,4,9,2,1]"
   ]
  },
  {
   "cell_type": "code",
   "execution_count": 47,
   "id": "179705e5-e230-4cbf-9bf3-79985bc86352",
   "metadata": {},
   "outputs": [
    {
     "data": {
      "text/plain": [
       "6"
      ]
     },
     "execution_count": 47,
     "metadata": {},
     "output_type": "execute_result"
    }
   ],
   "source": [
    "len(x)"
   ]
  },
  {
   "cell_type": "code",
   "execution_count": 48,
   "id": "c0e920ae-51cf-4b7d-bb38-cfcaa744646c",
   "metadata": {},
   "outputs": [
    {
     "data": {
      "text/plain": [
       "1"
      ]
     },
     "execution_count": 48,
     "metadata": {},
     "output_type": "execute_result"
    }
   ],
   "source": [
    "min(x)"
   ]
  },
  {
   "cell_type": "code",
   "execution_count": 49,
   "id": "8b9c6908-4d01-43fa-b631-034d553e057e",
   "metadata": {},
   "outputs": [
    {
     "data": {
      "text/plain": [
       "9"
      ]
     },
     "execution_count": 49,
     "metadata": {},
     "output_type": "execute_result"
    }
   ],
   "source": [
    "max(x)"
   ]
  },
  {
   "cell_type": "code",
   "execution_count": 50,
   "id": "e14ec494-e129-402c-97d9-33cc6f01718a",
   "metadata": {},
   "outputs": [
    {
     "data": {
      "text/plain": [
       "30"
      ]
     },
     "execution_count": 50,
     "metadata": {},
     "output_type": "execute_result"
    }
   ],
   "source": [
    "sum(x)"
   ]
  },
  {
   "cell_type": "code",
   "execution_count": 51,
   "id": "7761e807-8245-44f9-ab9f-feaa5fdbaf4b",
   "metadata": {},
   "outputs": [
    {
     "data": {
      "text/plain": [
       "5.0"
      ]
     },
     "execution_count": 51,
     "metadata": {},
     "output_type": "execute_result"
    }
   ],
   "source": [
    "sum(x)/len(x)"
   ]
  },
  {
   "cell_type": "markdown",
   "id": "71b3fcdd-8d2a-4cb3-8d8d-572d34d65b83",
   "metadata": {},
   "source": [
    "Tupple "
   ]
  },
  {
   "cell_type": "markdown",
   "id": "a991b6db-7f66-4b79-8ca8-5aa3f2362886",
   "metadata": {},
   "source": [
    "Tupple is collection of immutable heterogeneous python objects"
   ]
  },
  {
   "cell_type": "markdown",
   "id": "2f373fb8-15d2-4941-bbc5-2895918654df",
   "metadata": {},
   "source": [
    "Creating Tupples"
   ]
  },
  {
   "cell_type": "code",
   "execution_count": 52,
   "id": "70a47157-f125-42b6-84dd-2d45f207bb29",
   "metadata": {},
   "outputs": [
    {
     "name": "stdout",
     "output_type": "stream",
     "text": [
      "<class 'tuple'>\n"
     ]
    }
   ],
   "source": [
    "emp=()\n",
    "print(type(emp))"
   ]
  },
  {
   "cell_type": "code",
   "execution_count": 53,
   "id": "4282a1a1-1985-42d2-80d5-b7d83103cde0",
   "metadata": {},
   "outputs": [
    {
     "data": {
      "text/plain": [
       "tuple"
      ]
     },
     "execution_count": 53,
     "metadata": {},
     "output_type": "execute_result"
    }
   ],
   "source": [
    "city= 'New york',\n",
    "type(city)"
   ]
  },
  {
   "cell_type": "code",
   "execution_count": 54,
   "id": "64f934d0-305d-408c-bafb-eae7eb85796e",
   "metadata": {},
   "outputs": [
    {
     "data": {
      "text/plain": [
       "('dragon', 'ball', 'z')"
      ]
     },
     "execution_count": 54,
     "metadata": {},
     "output_type": "execute_result"
    }
   ],
   "source": [
    "city= 'dragon', 'ball', 'z'\n",
    "city"
   ]
  },
  {
   "cell_type": "code",
   "execution_count": 55,
   "id": "289814bf-320e-4648-9430-2596e6a83d8f",
   "metadata": {},
   "outputs": [
    {
     "name": "stdout",
     "output_type": "stream",
     "text": [
      "[1, 2, 4, 5, 5]\n"
     ]
    }
   ],
   "source": [
    "list1 =[1,2,4,5]\n",
    "tuple1=(1,2,3,4)\n",
    "list1.append(5)\n",
    "print(list1)"
   ]
  },
  {
   "cell_type": "code",
   "execution_count": 56,
   "id": "d7f43758-f7a1-4127-9222-0124167c5e82",
   "metadata": {},
   "outputs": [
    {
     "data": {
      "text/plain": [
       "'ball'"
      ]
     },
     "execution_count": 56,
     "metadata": {},
     "output_type": "execute_result"
    }
   ],
   "source": [
    "city[1]"
   ]
  },
  {
   "cell_type": "code",
   "execution_count": 58,
   "id": "11718cb8-e7f8-4449-8d04-bea94a0b3643",
   "metadata": {},
   "outputs": [
    {
     "data": {
      "text/plain": [
       "'z'"
      ]
     },
     "execution_count": 58,
     "metadata": {},
     "output_type": "execute_result"
    }
   ],
   "source": [
    "city[-1]"
   ]
  },
  {
   "cell_type": "markdown",
   "id": "8bb3fb2d-e2df-4eec-88a5-b9e01f5028e6",
   "metadata": {},
   "source": [
    "Unpacking"
   ]
  },
  {
   "cell_type": "code",
   "execution_count": 60,
   "id": "426c424e-458e-4844-9850-4e405437f828",
   "metadata": {},
   "outputs": [
    {
     "data": {
      "text/plain": [
       "('s', 'i', 'm', 'p', 'l', 'e')"
      ]
     },
     "execution_count": 60,
     "metadata": {},
     "output_type": "execute_result"
    }
   ],
   "source": [
    "tuple('simple')"
   ]
  },
  {
   "cell_type": "code",
   "execution_count": 63,
   "id": "7bb08408-ae8a-4d04-8dbc-83b4e36dcd20",
   "metadata": {},
   "outputs": [
    {
     "data": {
      "text/plain": [
       "1"
      ]
     },
     "execution_count": 63,
     "metadata": {},
     "output_type": "execute_result"
    }
   ],
   "source": [
    "tuple1.count(3)"
   ]
  },
  {
   "cell_type": "code",
   "execution_count": 64,
   "id": "70cfc8bf-832e-4b2c-b0e1-807ea650b0e3",
   "metadata": {},
   "outputs": [
    {
     "data": {
      "text/plain": [
       "tuple"
      ]
     },
     "execution_count": 64,
     "metadata": {},
     "output_type": "execute_result"
    }
   ],
   "source": [
    "lst =[1,2,3,4,5]\n",
    "tpl=tuple(lst)\n",
    "type(tpl)"
   ]
  },
  {
   "cell_type": "code",
   "execution_count": null,
   "id": "0b138edb-03da-4fe1-b623-d762f22dbf46",
   "metadata": {},
   "outputs": [],
   "source": []
  },
  {
   "cell_type": "code",
   "execution_count": null,
   "id": "144bff5b-dc84-49f2-8c15-a50cb07eaa45",
   "metadata": {},
   "outputs": [],
   "source": []
  },
  {
   "cell_type": "code",
   "execution_count": null,
   "id": "f9e29526-1783-4983-b667-8641a26fb301",
   "metadata": {},
   "outputs": [],
   "source": []
  },
  {
   "cell_type": "code",
   "execution_count": null,
   "id": "6e85f50f-9b59-4de9-8bd5-fd84f34a6421",
   "metadata": {},
   "outputs": [],
   "source": []
  },
  {
   "cell_type": "code",
   "execution_count": null,
   "id": "1aea0fdd-8d76-4074-9932-91023ca1f8c2",
   "metadata": {},
   "outputs": [],
   "source": []
  },
  {
   "cell_type": "code",
   "execution_count": null,
   "id": "d8c283fc-cb38-410e-b0d8-0920f4317a88",
   "metadata": {},
   "outputs": [],
   "source": []
  },
  {
   "cell_type": "code",
   "execution_count": null,
   "id": "20dc6719-4101-4325-a27e-fd227765ed8a",
   "metadata": {},
   "outputs": [],
   "source": []
  },
  {
   "cell_type": "code",
   "execution_count": null,
   "id": "fa0fc85c-58a2-4281-9142-70b4884832b5",
   "metadata": {},
   "outputs": [],
   "source": []
  },
  {
   "cell_type": "code",
   "execution_count": null,
   "id": "e252d54c-c5a3-4cc6-94f6-aa8c5c25acbe",
   "metadata": {},
   "outputs": [],
   "source": []
  },
  {
   "cell_type": "code",
   "execution_count": null,
   "id": "25ebe6f5-876a-4052-b91d-ab4645c10c98",
   "metadata": {},
   "outputs": [],
   "source": []
  },
  {
   "cell_type": "code",
   "execution_count": null,
   "id": "bab9bd65-8a75-4703-9153-42c53fa06752",
   "metadata": {},
   "outputs": [],
   "source": []
  },
  {
   "cell_type": "code",
   "execution_count": null,
   "id": "0bb90e37-c9b1-4dfa-99a8-8d955309efc0",
   "metadata": {},
   "outputs": [],
   "source": []
  },
  {
   "cell_type": "code",
   "execution_count": null,
   "id": "44721366-8295-4a89-946a-c6eb389dd0df",
   "metadata": {},
   "outputs": [],
   "source": []
  },
  {
   "cell_type": "code",
   "execution_count": null,
   "id": "bcd146aa-3910-496a-b3ff-02d7b18b73a7",
   "metadata": {},
   "outputs": [],
   "source": []
  },
  {
   "cell_type": "code",
   "execution_count": null,
   "id": "9a933878-9c95-4f61-ba95-28c2ae23b318",
   "metadata": {},
   "outputs": [],
   "source": []
  },
  {
   "cell_type": "code",
   "execution_count": null,
   "id": "c99971e7-afba-43e3-90e6-f98bba1a9582",
   "metadata": {},
   "outputs": [],
   "source": []
  }
 ],
 "metadata": {
  "kernelspec": {
   "display_name": "Python 3 (ipykernel)",
   "language": "python",
   "name": "python3"
  },
  "language_info": {
   "codemirror_mode": {
    "name": "ipython",
    "version": 3
   },
   "file_extension": ".py",
   "mimetype": "text/x-python",
   "name": "python",
   "nbconvert_exporter": "python",
   "pygments_lexer": "ipython3",
   "version": "3.13.5"
  }
 },
 "nbformat": 4,
 "nbformat_minor": 5
}
