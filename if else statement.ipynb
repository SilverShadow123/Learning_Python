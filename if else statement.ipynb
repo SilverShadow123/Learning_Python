{
 "cells": [
  {
   "cell_type": "code",
   "id": "initial_id",
   "metadata": {
    "collapsed": true,
    "ExecuteTime": {
     "end_time": "2025-10-07T12:07:35.692579Z",
     "start_time": "2025-10-07T12:07:35.689142Z"
    }
   },
   "source": [
    "a=50\n",
    "if a>10:\n",
    "    print('this is if block')\n",
    "print('this is outside if block')"
   ],
   "outputs": [
    {
     "name": "stdout",
     "output_type": "stream",
     "text": [
      "this is if block\n",
      "this is outside if block\n"
     ]
    }
   ],
   "execution_count": 4
  },
  {
   "metadata": {
    "ExecuteTime": {
     "end_time": "2025-10-07T12:08:45.754144Z",
     "start_time": "2025-10-07T12:08:45.751145Z"
    }
   },
   "cell_type": "code",
   "source": [
    "i=20\n",
    "if i%2==0:\n",
    "    print('even number')\n",
    "else:\n",
    "    print('odd number')"
   ],
   "id": "7d71ecb01ce7f5dd",
   "outputs": [
    {
     "name": "stdout",
     "output_type": "stream",
     "text": [
      "even number\n"
     ]
    }
   ],
   "execution_count": 6
  },
  {
   "metadata": {},
   "cell_type": "markdown",
   "source": "Nested if statement",
   "id": "2d9ed68a0bc493ba"
  },
  {
   "metadata": {
    "ExecuteTime": {
     "end_time": "2025-10-07T12:12:40.075771Z",
     "start_time": "2025-10-07T12:12:40.072319Z"
    }
   },
   "cell_type": "code",
   "source": [
    "c=50\n",
    "if c>25:\n",
    "    if c%2==0:\n",
    "        print('even number greater than 25')\n",
    "    else:\n",
    "        print('odd number greater than 25')\n",
    "\n",
    "else:\n",
    "    print('number is less than 25')"
   ],
   "id": "3c444e232cd19849",
   "outputs": [
    {
     "name": "stdout",
     "output_type": "stream",
     "text": [
      "even number greater than 25\n"
     ]
    }
   ],
   "execution_count": 8
  },
  {
   "metadata": {},
   "cell_type": "markdown",
   "source": "if-elif-else ladder",
   "id": "adfdf43fa2d15834"
  },
  {
   "metadata": {
    "ExecuteTime": {
     "end_time": "2025-10-07T12:15:23.732188Z",
     "start_time": "2025-10-07T12:15:23.727326Z"
    }
   },
   "cell_type": "code",
   "source": [
    "var = 'a'\n",
    "if var=='a':\n",
    "    print('this is a')\n",
    "elif var=='b':\n",
    "    print('this is b')\n",
    "elif var=='c':\n",
    "    print('this is c')\n",
    "else:\n",
    "    print('not a,b or c')"
   ],
   "id": "6d4d721dca6348cd",
   "outputs": [
    {
     "name": "stdout",
     "output_type": "stream",
     "text": [
      "this is a\n"
     ]
    }
   ],
   "execution_count": 10
  },
  {
   "metadata": {},
   "cell_type": "code",
   "outputs": [],
   "execution_count": null,
   "source": "",
   "id": "7358503fc4132863"
  }
 ],
 "metadata": {
  "kernelspec": {
   "display_name": "Python 3",
   "language": "python",
   "name": "python3"
  },
  "language_info": {
   "codemirror_mode": {
    "name": "ipython",
    "version": 2
   },
   "file_extension": ".py",
   "mimetype": "text/x-python",
   "name": "python",
   "nbconvert_exporter": "python",
   "pygments_lexer": "ipython2",
   "version": "2.7.6"
  }
 },
 "nbformat": 4,
 "nbformat_minor": 5
}
