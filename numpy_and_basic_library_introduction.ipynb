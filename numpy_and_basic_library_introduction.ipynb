{
 "cells": [
  {
   "cell_type": "code",
   "id": "initial_id",
   "metadata": {
    "collapsed": true,
    "ExecuteTime": {
     "end_time": "2025-10-19T18:10:06.802315Z",
     "start_time": "2025-10-19T18:10:06.734384Z"
    },
    "tags": [
     "AI Libraries Needed to Know"
    ]
   },
   "source": "import numpy as np",
   "outputs": [],
   "execution_count": 2
  },
  {
   "metadata": {
    "ExecuteTime": {
     "end_time": "2025-10-19T19:05:25.737801Z",
     "start_time": "2025-10-19T19:05:25.731798Z"
    }
   },
   "cell_type": "code",
   "source": [
    "a = np.array([1, 2, 3])\n",
    "print(type(a))"
   ],
   "id": "643d394daec77160",
   "outputs": [
    {
     "name": "stdout",
     "output_type": "stream",
     "text": [
      "<class 'numpy.ndarray'>\n"
     ]
    }
   ],
   "execution_count": 3
  },
  {
   "metadata": {
    "ExecuteTime": {
     "end_time": "2025-10-19T19:05:34.658872Z",
     "start_time": "2025-10-19T19:05:34.655453Z"
    }
   },
   "cell_type": "code",
   "source": "print(a.shape)",
   "id": "405ef10d3e5da574",
   "outputs": [
    {
     "name": "stdout",
     "output_type": "stream",
     "text": [
      "(3,)\n"
     ]
    }
   ],
   "execution_count": 4
  },
  {
   "metadata": {
    "ExecuteTime": {
     "end_time": "2025-10-19T19:10:00.845808Z",
     "start_time": "2025-10-19T19:10:00.840396Z"
    }
   },
   "cell_type": "code",
   "source": [
    "b= np.arange(12).reshape(3,4)\n",
    "b"
   ],
   "id": "2fdc8035c9fce047",
   "outputs": [
    {
     "data": {
      "text/plain": [
       "array([[ 0,  1,  2,  3],\n",
       "       [ 4,  5,  6,  7],\n",
       "       [ 8,  9, 10, 11]])"
      ]
     },
     "execution_count": 16,
     "metadata": {},
     "output_type": "execute_result"
    }
   ],
   "execution_count": 16
  },
  {
   "metadata": {
    "ExecuteTime": {
     "end_time": "2025-10-19T19:09:38.667537Z",
     "start_time": "2025-10-19T19:09:38.663460Z"
    }
   },
   "cell_type": "code",
   "source": "b.reshape(6,2)",
   "id": "ebd4de2bed135667",
   "outputs": [
    {
     "data": {
      "text/plain": [
       "array([[ 0,  1],\n",
       "       [ 2,  3],\n",
       "       [ 4,  5],\n",
       "       [ 6,  7],\n",
       "       [ 8,  9],\n",
       "       [10, 11]])"
      ]
     },
     "execution_count": 15,
     "metadata": {},
     "output_type": "execute_result"
    }
   ],
   "execution_count": 15
  },
  {
   "metadata": {
    "ExecuteTime": {
     "end_time": "2025-10-19T19:26:52.945021Z",
     "start_time": "2025-10-19T19:26:52.824103Z"
    }
   },
   "cell_type": "code",
   "source": "from scipy import constants",
   "id": "42a7a4ecea61b51d",
   "outputs": [],
   "execution_count": 17
  },
  {
   "metadata": {
    "ExecuteTime": {
     "end_time": "2025-10-19T20:35:58.084935Z",
     "start_time": "2025-10-19T20:35:58.068397Z"
    }
   },
   "cell_type": "code",
   "source": [
    "import pandas as pd\n",
    "df = pd.DataFrame(np.random.rand(6,4), index=list(range(6)), columns=list('ABCD'))\n",
    "df\n",
    "df.describe()"
   ],
   "id": "9295fab4448edb99",
   "outputs": [
    {
     "data": {
      "text/plain": [
       "              A         B         C         D\n",
       "count  6.000000  6.000000  6.000000  6.000000\n",
       "mean   0.606901  0.580316  0.430523  0.421694\n",
       "std    0.278574  0.267794  0.260001  0.347330\n",
       "min    0.116730  0.176042  0.094659  0.014635\n",
       "25%    0.513806  0.403772  0.245285  0.120098\n",
       "50%    0.676814  0.670863  0.457606  0.465011\n",
       "75%    0.816312  0.771464  0.576431  0.665154\n",
       "max    0.848764  0.844386  0.782715  0.848509"
      ],
      "text/html": [
       "<div>\n",
       "<style scoped>\n",
       "    .dataframe tbody tr th:only-of-type {\n",
       "        vertical-align: middle;\n",
       "    }\n",
       "\n",
       "    .dataframe tbody tr th {\n",
       "        vertical-align: top;\n",
       "    }\n",
       "\n",
       "    .dataframe thead th {\n",
       "        text-align: right;\n",
       "    }\n",
       "</style>\n",
       "<table border=\"1\" class=\"dataframe\">\n",
       "  <thead>\n",
       "    <tr style=\"text-align: right;\">\n",
       "      <th></th>\n",
       "      <th>A</th>\n",
       "      <th>B</th>\n",
       "      <th>C</th>\n",
       "      <th>D</th>\n",
       "    </tr>\n",
       "  </thead>\n",
       "  <tbody>\n",
       "    <tr>\n",
       "      <th>count</th>\n",
       "      <td>6.000000</td>\n",
       "      <td>6.000000</td>\n",
       "      <td>6.000000</td>\n",
       "      <td>6.000000</td>\n",
       "    </tr>\n",
       "    <tr>\n",
       "      <th>mean</th>\n",
       "      <td>0.606901</td>\n",
       "      <td>0.580316</td>\n",
       "      <td>0.430523</td>\n",
       "      <td>0.421694</td>\n",
       "    </tr>\n",
       "    <tr>\n",
       "      <th>std</th>\n",
       "      <td>0.278574</td>\n",
       "      <td>0.267794</td>\n",
       "      <td>0.260001</td>\n",
       "      <td>0.347330</td>\n",
       "    </tr>\n",
       "    <tr>\n",
       "      <th>min</th>\n",
       "      <td>0.116730</td>\n",
       "      <td>0.176042</td>\n",
       "      <td>0.094659</td>\n",
       "      <td>0.014635</td>\n",
       "    </tr>\n",
       "    <tr>\n",
       "      <th>25%</th>\n",
       "      <td>0.513806</td>\n",
       "      <td>0.403772</td>\n",
       "      <td>0.245285</td>\n",
       "      <td>0.120098</td>\n",
       "    </tr>\n",
       "    <tr>\n",
       "      <th>50%</th>\n",
       "      <td>0.676814</td>\n",
       "      <td>0.670863</td>\n",
       "      <td>0.457606</td>\n",
       "      <td>0.465011</td>\n",
       "    </tr>\n",
       "    <tr>\n",
       "      <th>75%</th>\n",
       "      <td>0.816312</td>\n",
       "      <td>0.771464</td>\n",
       "      <td>0.576431</td>\n",
       "      <td>0.665154</td>\n",
       "    </tr>\n",
       "    <tr>\n",
       "      <th>max</th>\n",
       "      <td>0.848764</td>\n",
       "      <td>0.844386</td>\n",
       "      <td>0.782715</td>\n",
       "      <td>0.848509</td>\n",
       "    </tr>\n",
       "  </tbody>\n",
       "</table>\n",
       "</div>"
      ]
     },
     "execution_count": 27,
     "metadata": {},
     "output_type": "execute_result"
    }
   ],
   "execution_count": 27
  },
  {
   "metadata": {
    "ExecuteTime": {
     "end_time": "2025-10-19T19:30:58.784701Z",
     "start_time": "2025-10-19T19:30:57.287113Z"
    }
   },
   "cell_type": "code",
   "source": [
    "import numpy as np\n",
    "import  matplotlib.pyplot as plt\n",
    "%matplotlib inline"
   ],
   "id": "cd367d302e3da66d",
   "outputs": [],
   "execution_count": 19
  },
  {
   "metadata": {
    "ExecuteTime": {
     "end_time": "2025-10-19T19:31:17.928496Z",
     "start_time": "2025-10-19T19:31:17.922073Z"
    }
   },
   "cell_type": "code",
   "source": "np.random.seed(10)",
   "id": "410f23bb4faade8e",
   "outputs": [],
   "execution_count": 20
  },
  {
   "metadata": {
    "ExecuteTime": {
     "end_time": "2025-10-19T19:31:56.242658Z",
     "start_time": "2025-10-19T19:31:56.236786Z"
    }
   },
   "cell_type": "code",
   "source": [
    "N=30\n",
    "x = np.random.rand(N)\n",
    "y = np.random.rand(N)\n",
    "colors = np.random.rand(N)\n",
    "area = (30 * np.random.rand(N))**2  # 0 to 150 point radii"
   ],
   "id": "80bb11834762e9a1",
   "outputs": [],
   "execution_count": 21
  },
  {
   "metadata": {
    "ExecuteTime": {
     "end_time": "2025-10-19T19:32:16.628578Z",
     "start_time": "2025-10-19T19:32:16.540775Z"
    }
   },
   "cell_type": "code",
   "source": [
    "plt.scatter(x, y, s=area, c=colors, alpha=0.5)\n",
    "plt.show()"
   ],
   "id": "21421a09e5aa258e",
   "outputs": [
    {
     "data": {
      "text/plain": [
       "<Figure size 640x480 with 1 Axes>"
      ],
      "image/png": "[encoded data removed]"
     },
     "metadata": {},
     "output_type": "display_data",
     "jetTransient": {
      "display_id": null
     }
    }
   ],
   "execution_count": 22
  },
  {
   "metadata": {
    "ExecuteTime": {
     "end_time": "2025-10-19T20:28:04.347535Z",
     "start_time": "2025-10-19T20:28:04.248474Z"
    }
   },
   "cell_type": "code",
   "source": [
    "from matplotlib import style\n",
    "style.use('ggplot')\n",
    "x = [2,4,6]\n",
    "y=[12,14,16]\n",
    "x2 =[3,3,4]\n",
    "y2=[15,18,20]\n",
    "plt.bar(x,y,color='r', align='center')\n",
    "plt.bar(x2,y2,color='b', align='center')\n",
    "plt.title('Bar graph')\n",
    "plt.xlabel('X axis')\n",
    "plt.ylabel('Y axis')\n",
    "plt.show()"
   ],
   "id": "9346170f9053e816",
   "outputs": [
    {
     "data": {
      "text/plain": [
       "<Figure size 640x480 with 1 Axes>"
      ],
      "image/png": "[encoded data removed]"
     },
     "metadata": {},
     "output_type": "display_data",
     "jetTransient": {
      "display_id": null
     }
    }
   ],
   "execution_count": 23
  },
  {
   "metadata": {},
   "cell_type": "markdown",
   "source": "Numpy Part 1",
   "id": "24cae2097c480408"
  },
  {
   "metadata": {
    "ExecuteTime": {
     "end_time": "2025-10-19T20:42:52.805951Z",
     "start_time": "2025-10-19T20:42:52.801131Z"
    }
   },
   "cell_type": "code",
   "source": [
    "a= np.array([[1,2,3],[4,5,6]])\n",
    "a"
   ],
   "id": "d45f642a7ed5d671",
   "outputs": [
    {
     "data": {
      "text/plain": [
       "array([[1, 2, 3],\n",
       "       [4, 5, 6]])"
      ]
     },
     "execution_count": 28,
     "metadata": {},
     "output_type": "execute_result"
    }
   ],
   "execution_count": 28
  },
  {
   "metadata": {
    "ExecuteTime": {
     "end_time": "2025-10-19T20:45:24.005725Z",
     "start_time": "2025-10-19T20:45:24.002723Z"
    }
   },
   "cell_type": "code",
   "source": [
    "import time\n",
    "import sys\n"
   ],
   "id": "f80c1d808ca5d7a9",
   "outputs": [],
   "execution_count": 29
  },
  {
   "metadata": {
    "ExecuteTime": {
     "end_time": "2025-10-19T20:46:14.672435Z",
     "start_time": "2025-10-19T20:46:14.667919Z"
    }
   },
   "cell_type": "code",
   "source": [
    "b=range(1000)\n",
    "print(sys.getsizeof(5)*len(b))"
   ],
   "id": "45282ece4573b666",
   "outputs": [
    {
     "name": "stdout",
     "output_type": "stream",
     "text": [
      "28000\n"
     ]
    }
   ],
   "execution_count": 30
  },
  {
   "metadata": {
    "ExecuteTime": {
     "end_time": "2025-10-19T20:47:57.439811Z",
     "start_time": "2025-10-19T20:47:57.436298Z"
    }
   },
   "cell_type": "code",
   "source": [
    "c=np.arange(1000)\n",
    "print(c.size*c.itemsize)"
   ],
   "id": "ad16a1a13c5186e4",
   "outputs": [
    {
     "name": "stdout",
     "output_type": "stream",
     "text": [
      "8000\n"
     ]
    }
   ],
   "execution_count": 31
  },
  {
   "metadata": {
    "ExecuteTime": {
     "end_time": "2025-10-19T20:49:42.154162Z",
     "start_time": "2025-10-19T20:49:42.144936Z"
    }
   },
   "cell_type": "code",
   "source": [
    "size = 1000000\n",
    "L = range(size)\n",
    "L2 = range(size)\n",
    "A = np.arange(size)\n",
    "A2 = np.arange(size)\n"
   ],
   "id": "c93e3ac60568af47",
   "outputs": [],
   "execution_count": 32
  },
  {
   "metadata": {
    "ExecuteTime": {
     "end_time": "2025-10-19T20:51:11.327318Z",
     "start_time": "2025-10-19T20:51:11.255240Z"
    }
   },
   "cell_type": "code",
   "source": [
    "start = time.time()\n",
    "result = [(x+y) for x,y in zip(L,L2)]\n",
    "\n",
    "print(\"Python list took:\", (time.time() - start)*1000)"
   ],
   "id": "9f072622a128cd5e",
   "outputs": [
    {
     "name": "stdout",
     "output_type": "stream",
     "text": [
      "Python list took: 68.7408447265625\n"
     ]
    }
   ],
   "execution_count": 33
  },
  {
   "metadata": {
    "ExecuteTime": {
     "end_time": "2025-10-19T20:52:33.638013Z",
     "start_time": "2025-10-19T20:52:33.621233Z"
    }
   },
   "cell_type": "code",
   "source": [
    "start = time.time()\n",
    "result = A + A2\n",
    "print(\"Numpy array took:\", (time.time() - start)*1000)"
   ],
   "id": "f1409a67cfacae3f",
   "outputs": [
    {
     "name": "stdout",
     "output_type": "stream",
     "text": [
      "Numpy array took: 12.271404266357422\n"
     ]
    }
   ],
   "execution_count": 34
  },
  {
   "metadata": {
    "ExecuteTime": {
     "end_time": "2025-10-19T20:56:09.690458Z",
     "start_time": "2025-10-19T20:56:09.673459Z"
    }
   },
   "cell_type": "code",
   "source": [
    "import numpy as np\n",
    "import time\n",
    "\n",
    "size = 1_000_000\n",
    "\n",
    "# Default dtype (int64)\n",
    "A = np.arange(size)\n",
    "A2 = np.arange(size)\n",
    "\n",
    "start = time.time()\n",
    "result = A + A2\n",
    "print(\"Default dtype:\", (time.time() - start)*1000, \"ms\")\n",
    "\n",
    "# Optimized dtype (int32)\n",
    "A32 = np.arange(size, dtype=np.int32)\n",
    "A2_32 = np.arange(size, dtype=np.int32)\n",
    "\n",
    "start = time.time()\n",
    "result = A32 + A2_32\n",
    "print(\"Optimized int32 dtype:\", (time.time() - start)*1000, \"ms\")\n"
   ],
   "id": "3e0993b2dd488d5",
   "outputs": [
    {
     "name": "stdout",
     "output_type": "stream",
     "text": [
      "Default dtype: 2.9990673065185547 ms\n",
      "Optimized int32 dtype: 1.9986629486083984 ms\n"
     ]
    }
   ],
   "execution_count": 35
  },
  {
   "metadata": {
    "ExecuteTime": {
     "end_time": "2025-10-19T20:57:54.935299Z",
     "start_time": "2025-10-19T20:57:54.930879Z"
    }
   },
   "cell_type": "code",
   "source": [
    "a= np.array([[1,2,3,4,5],[6,7,8,9,10],[11,12,13,14,15]])\n",
    "a"
   ],
   "id": "2cd423c302c63000",
   "outputs": [
    {
     "data": {
      "text/plain": [
       "array([[ 1,  2,  3,  4,  5],\n",
       "       [ 6,  7,  8,  9, 10],\n",
       "       [11, 12, 13, 14, 15]])"
      ]
     },
     "execution_count": 37,
     "metadata": {},
     "output_type": "execute_result"
    }
   ],
   "execution_count": 37
  },
  {
   "metadata": {
    "ExecuteTime": {
     "end_time": "2025-10-19T20:58:16.387769Z",
     "start_time": "2025-10-19T20:58:16.383796Z"
    }
   },
   "cell_type": "code",
   "source": "a.ndim",
   "id": "bd4c6bece7c87e12",
   "outputs": [
    {
     "data": {
      "text/plain": [
       "2"
      ]
     },
     "execution_count": 38,
     "metadata": {},
     "output_type": "execute_result"
    }
   ],
   "execution_count": 38
  },
  {
   "metadata": {
    "ExecuteTime": {
     "end_time": "2025-10-19T20:58:31.014998Z",
     "start_time": "2025-10-19T20:58:31.011394Z"
    }
   },
   "cell_type": "code",
   "source": "a.itemsize",
   "id": "441d12f5f8210892",
   "outputs": [
    {
     "data": {
      "text/plain": [
       "8"
      ]
     },
     "execution_count": 39,
     "metadata": {},
     "output_type": "execute_result"
    }
   ],
   "execution_count": 39
  },
  {
   "metadata": {
    "ExecuteTime": {
     "end_time": "2025-10-19T20:58:40.220564Z",
     "start_time": "2025-10-19T20:58:40.215799Z"
    }
   },
   "cell_type": "code",
   "source": "a.shape",
   "id": "13f54fb9df02c65f",
   "outputs": [
    {
     "data": {
      "text/plain": [
       "(3, 5)"
      ]
     },
     "execution_count": 40,
     "metadata": {},
     "output_type": "execute_result"
    }
   ],
   "execution_count": 40
  },
  {
   "metadata": {
    "ExecuteTime": {
     "end_time": "2025-10-19T21:00:40.037466Z",
     "start_time": "2025-10-19T21:00:40.031637Z"
    }
   },
   "cell_type": "code",
   "source": [
    "a= np.array([[1,2,3,4,5],[6,7,8,9,10],[11,12,13,14,15]],dtype=np.int64)\n",
    "a\n"
   ],
   "id": "18d0f89a455ab64c",
   "outputs": [
    {
     "data": {
      "text/plain": [
       "array([[ 1,  2,  3,  4,  5],\n",
       "       [ 6,  7,  8,  9, 10],\n",
       "       [11, 12, 13, 14, 15]])"
      ]
     },
     "execution_count": 44,
     "metadata": {},
     "output_type": "execute_result"
    }
   ],
   "execution_count": 44
  },
  {
   "metadata": {
    "ExecuteTime": {
     "end_time": "2025-10-19T21:00:41.471431Z",
     "start_time": "2025-10-19T21:00:41.465953Z"
    }
   },
   "cell_type": "code",
   "source": "a.itemsize",
   "id": "d212093655d5706a",
   "outputs": [
    {
     "data": {
      "text/plain": [
       "8"
      ]
     },
     "execution_count": 45,
     "metadata": {},
     "output_type": "execute_result"
    }
   ],
   "execution_count": 45
  },
  {
   "metadata": {
    "ExecuteTime": {
     "end_time": "2025-10-19T21:03:13.421349Z",
     "start_time": "2025-10-19T21:03:13.416253Z"
    }
   },
   "cell_type": "code",
   "source": [
    "a= np.array([[1,2,3,4,5],[6,7,8,9,10],[11,12,13,14,15]], dtype=complex)\n",
    "a"
   ],
   "id": "b48c146ab3da5cf8",
   "outputs": [
    {
     "data": {
      "text/plain": [
       "array([[ 1.+0.j,  2.+0.j,  3.+0.j,  4.+0.j,  5.+0.j],\n",
       "       [ 6.+0.j,  7.+0.j,  8.+0.j,  9.+0.j, 10.+0.j],\n",
       "       [11.+0.j, 12.+0.j, 13.+0.j, 14.+0.j, 15.+0.j]])"
      ]
     },
     "execution_count": 48,
     "metadata": {},
     "output_type": "execute_result"
    }
   ],
   "execution_count": 48
  },
  {
   "metadata": {
    "ExecuteTime": {
     "end_time": "2025-10-19T21:04:36.313517Z",
     "start_time": "2025-10-19T21:04:36.309482Z"
    }
   },
   "cell_type": "code",
   "source": "np.zeros((3,4))",
   "id": "f9489f07d14e07ac",
   "outputs": [
    {
     "data": {
      "text/plain": [
       "array([[0., 0., 0., 0.],\n",
       "       [0., 0., 0., 0.],\n",
       "       [0., 0., 0., 0.]])"
      ]
     },
     "execution_count": 49,
     "metadata": {},
     "output_type": "execute_result"
    }
   ],
   "execution_count": 49
  },
  {
   "metadata": {
    "ExecuteTime": {
     "end_time": "2025-10-19T21:06:05.035463Z",
     "start_time": "2025-10-19T21:06:05.030405Z"
    }
   },
   "cell_type": "code",
   "source": [
    "l=np.arange(4)\n",
    "l"
   ],
   "id": "1c9c1aebe3cd3802",
   "outputs": [
    {
     "data": {
      "text/plain": [
       "array([0, 1, 2, 3])"
      ]
     },
     "execution_count": 51,
     "metadata": {},
     "output_type": "execute_result"
    }
   ],
   "execution_count": 51
  },
  {
   "metadata": {
    "ExecuteTime": {
     "end_time": "2025-10-19T21:07:12.927505Z",
     "start_time": "2025-10-19T21:07:12.917362Z"
    }
   },
   "cell_type": "code",
   "source": "print(np.char.add(['hello','hi'],[' world',' everyone']))",
   "id": "c1e0dff906d4da08",
   "outputs": [
    {
     "name": "stdout",
     "output_type": "stream",
     "text": [
      "['hello world' 'hi everyone']\n"
     ]
    }
   ],
   "execution_count": 52
  },
  {
   "metadata": {
    "ExecuteTime": {
     "end_time": "2025-10-19T21:07:42.048063Z",
     "start_time": "2025-10-19T21:07:42.042504Z"
    }
   },
   "cell_type": "code",
   "source": "print(np.char.multiply('hello ',3))",
   "id": "cf471b7930412bed",
   "outputs": [
    {
     "name": "stdout",
     "output_type": "stream",
     "text": [
      "hello hello hello \n"
     ]
    }
   ],
   "execution_count": 53
  },
  {
   "metadata": {
    "ExecuteTime": {
     "end_time": "2025-10-19T21:08:43.581171Z",
     "start_time": "2025-10-19T21:08:43.576906Z"
    }
   },
   "cell_type": "code",
   "source": "print(np.char.center('hello',30, fillchar='-'))",
   "id": "392b4c5331885d5b",
   "outputs": [
    {
     "name": "stdout",
     "output_type": "stream",
     "text": [
      "------------hello-------------\n"
     ]
    }
   ],
   "execution_count": 55
  },
  {
   "metadata": {
    "ExecuteTime": {
     "end_time": "2025-10-19T21:09:03.632555Z",
     "start_time": "2025-10-19T21:09:03.629261Z"
    }
   },
   "cell_type": "code",
   "source": "print(np.char.capitalize('hello world'))",
   "id": "5f12d64fd200d1fb",
   "outputs": [
    {
     "name": "stdout",
     "output_type": "stream",
     "text": [
      "Hello world\n"
     ]
    }
   ],
   "execution_count": 56
  },
  {
   "metadata": {
    "ExecuteTime": {
     "end_time": "2025-10-19T21:09:19.901414Z",
     "start_time": "2025-10-19T21:09:19.897487Z"
    }
   },
   "cell_type": "code",
   "source": "print(np.char.title('how are you'))",
   "id": "5939ac8ff6a192f0",
   "outputs": [
    {
     "name": "stdout",
     "output_type": "stream",
     "text": [
      "How Are You\n"
     ]
    }
   ],
   "execution_count": 57
  },
  {
   "metadata": {
    "ExecuteTime": {
     "end_time": "2025-10-19T21:09:45.620628Z",
     "start_time": "2025-10-19T21:09:45.616423Z"
    }
   },
   "cell_type": "code",
   "source": "print(np.char.lower('HELLO WORLD'))",
   "id": "932c7aab245e1da3",
   "outputs": [
    {
     "name": "stdout",
     "output_type": "stream",
     "text": [
      "hello world\n"
     ]
    }
   ],
   "execution_count": 58
  },
  {
   "metadata": {
    "ExecuteTime": {
     "end_time": "2025-10-19T21:10:05.260858Z",
     "start_time": "2025-10-19T21:10:05.257473Z"
    }
   },
   "cell_type": "code",
   "source": "print(np.char.upper('hello world'))",
   "id": "6041149b9200605",
   "outputs": [
    {
     "name": "stdout",
     "output_type": "stream",
     "text": [
      "HELLO WORLD\n"
     ]
    }
   ],
   "execution_count": 59
  },
  {
   "metadata": {
    "ExecuteTime": {
     "end_time": "2025-10-19T21:10:49.823361Z",
     "start_time": "2025-10-19T21:10:49.817505Z"
    }
   },
   "cell_type": "code",
   "source": "print(np.char.split(('hello world how are you')))",
   "id": "53b26577a695b2ad",
   "outputs": [
    {
     "name": "stdout",
     "output_type": "stream",
     "text": [
      "['hello', 'world', 'how', 'are', 'you']\n"
     ]
    }
   ],
   "execution_count": 60
  },
  {
   "metadata": {
    "ExecuteTime": {
     "end_time": "2025-10-19T21:11:14.335623Z",
     "start_time": "2025-10-19T21:11:14.332283Z"
    }
   },
   "cell_type": "code",
   "source": "print(np.char.splitlines('hello\\nworld'))",
   "id": "2371d7dee8ea1e4e",
   "outputs": [
    {
     "name": "stdout",
     "output_type": "stream",
     "text": [
      "['hello', 'world']\n"
     ]
    }
   ],
   "execution_count": 61
  },
  {
   "metadata": {
    "ExecuteTime": {
     "end_time": "2025-10-19T21:14:12.676464Z",
     "start_time": "2025-10-19T21:14:12.671207Z"
    }
   },
   "cell_type": "code",
   "source": "print(np.char.strip(['hello','hi'],'h'))",
   "id": "85144569f6f8bcc0",
   "outputs": [
    {
     "name": "stdout",
     "output_type": "stream",
     "text": [
      "['ello' 'i']\n"
     ]
    }
   ],
   "execution_count": 65
  },
  {
   "metadata": {
    "ExecuteTime": {
     "end_time": "2025-10-19T21:13:20.058114Z",
     "start_time": "2025-10-19T21:13:20.049619Z"
    }
   },
   "cell_type": "code",
   "source": "print(np.char.join([':','-'],['abcd','efgh']))",
   "id": "78eed122dc78ac8e",
   "outputs": [
    {
     "name": "stdout",
     "output_type": "stream",
     "text": [
      "['a:b:c:d' 'e-f-g-h']\n"
     ]
    }
   ],
   "execution_count": 63
  },
  {
   "metadata": {
    "ExecuteTime": {
     "end_time": "2025-10-19T21:13:36.691112Z",
     "start_time": "2025-10-19T21:13:36.686111Z"
    }
   },
   "cell_type": "code",
   "source": "print(np.char.replace('hello world','world','everyone'))",
   "id": "616588c531ded6aa",
   "outputs": [
    {
     "name": "stdout",
     "output_type": "stream",
     "text": [
      "hello everyone\n"
     ]
    }
   ],
   "execution_count": 64
  },
  {
   "metadata": {},
   "cell_type": "code",
   "outputs": [],
   "execution_count": null,
   "source": "",
   "id": "fec5523435ceef77"
  }
 ],
 "metadata": {
  "kernelspec": {
   "display_name": "Python 3",
   "language": "python",
   "name": "python3"
  },
  "language_info": {
   "codemirror_mode": {
    "name": "ipython",
    "version": 2
   },
   "file_extension": ".py",
   "mimetype": "text/x-python",
   "name": "python",
   "nbconvert_exporter": "python",
   "pygments_lexer": "ipython2",
   "version": "2.7.6"
  }
 },
 "nbformat": 4,
 "nbformat_minor": 5
}
