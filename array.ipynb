{
 "cells": [
  {
   "cell_type": "code",
   "id": "initial_id",
   "metadata": {
    "collapsed": true,
    "ExecuteTime": {
     "end_time": "2025-10-17T10:21:19.250498Z",
     "start_time": "2025-10-17T10:21:19.246465Z"
    }
   },
   "source": [
    "from array import *\n",
    "arr = array('i', [1, 2, 3, 4, 5])\n",
    "print(\"Original array:\", arr)"
   ],
   "outputs": [
    {
     "name": "stdout",
     "output_type": "stream",
     "text": [
      "Original array: array('i', [1, 2, 3, 4, 5])\n"
     ]
    }
   ],
   "execution_count": 2
  },
  {
   "metadata": {
    "ExecuteTime": {
     "end_time": "2025-10-17T10:22:25.006710Z",
     "start_time": "2025-10-17T10:22:25.002518Z"
    }
   },
   "cell_type": "code",
   "source": "print(arr.buffer_info())",
   "id": "4e67a5fde5f31d15",
   "outputs": [
    {
     "name": "stdout",
     "output_type": "stream",
     "text": [
      "(2099612625072, 5)\n"
     ]
    }
   ],
   "execution_count": 3
  },
  {
   "metadata": {
    "ExecuteTime": {
     "end_time": "2025-10-17T10:22:48.606689Z",
     "start_time": "2025-10-17T10:22:48.602633Z"
    }
   },
   "cell_type": "code",
   "source": "print(arr[2])",
   "id": "34453b05e840f192",
   "outputs": [
    {
     "name": "stdout",
     "output_type": "stream",
     "text": [
      "3\n"
     ]
    }
   ],
   "execution_count": 4
  },
  {
   "metadata": {
    "ExecuteTime": {
     "end_time": "2025-10-17T10:23:25.058077Z",
     "start_time": "2025-10-17T10:23:25.048601Z"
    }
   },
   "cell_type": "code",
   "source": [
    "for i in arr:\n",
    "    print(i, end=' ')"
   ],
   "id": "7f20989de590f7f9",
   "outputs": [
    {
     "name": "stdout",
     "output_type": "stream",
     "text": [
      "1 2 3 4 5 "
     ]
    }
   ],
   "execution_count": 5
  },
  {
   "metadata": {
    "ExecuteTime": {
     "end_time": "2025-10-17T10:24:35.564585Z",
     "start_time": "2025-10-17T10:24:35.560039Z"
    }
   },
   "cell_type": "code",
   "source": [
    "for pnt in range(5):\n",
    "    print(pnt, arr[pnt])"
   ],
   "id": "e57ee5462dfd428a",
   "outputs": [
    {
     "name": "stdout",
     "output_type": "stream",
     "text": [
      "0 1\n",
      "1 2\n",
      "2 3\n",
      "3 4\n",
      "4 5\n"
     ]
    }
   ],
   "execution_count": 7
  },
  {
   "metadata": {
    "ExecuteTime": {
     "end_time": "2025-10-17T10:26:34.818104Z",
     "start_time": "2025-10-17T10:26:34.814109Z"
    }
   },
   "cell_type": "code",
   "source": [
    "arr.reverse()\n",
    "print(arr)"
   ],
   "id": "663cbfd38909e511",
   "outputs": [
    {
     "name": "stdout",
     "output_type": "stream",
     "text": [
      "array('i', [5, 4, 3, 2, 1])\n"
     ]
    }
   ],
   "execution_count": 12
  },
  {
   "metadata": {
    "ExecuteTime": {
     "end_time": "2025-10-17T10:28:02.300340Z",
     "start_time": "2025-10-17T10:28:02.296221Z"
    }
   },
   "cell_type": "code",
   "source": [
    "arr.append(10)\n",
    "print(arr)"
   ],
   "id": "25b8ac4adf664200",
   "outputs": [
    {
     "name": "stdout",
     "output_type": "stream",
     "text": [
      "array('i', [5, 4, 3, 2, 1, 10])\n"
     ]
    }
   ],
   "execution_count": 13
  },
  {
   "metadata": {
    "ExecuteTime": {
     "end_time": "2025-10-17T10:29:19.767944Z",
     "start_time": "2025-10-17T10:29:19.763701Z"
    }
   },
   "cell_type": "code",
   "source": [
    "arr=array('i', [5, 4, 3,2, 2, 1, 10])\n",
    "arr.remove(2)\n",
    "print(arr)"
   ],
   "id": "acf28430a743b1a2",
   "outputs": [
    {
     "name": "stdout",
     "output_type": "stream",
     "text": [
      "array('i', [5, 4, 3, 2, 1, 10])\n"
     ]
    }
   ],
   "execution_count": 18
  },
  {
   "metadata": {
    "ExecuteTime": {
     "end_time": "2025-10-17T10:32:51.478031Z",
     "start_time": "2025-10-17T10:32:51.475031Z"
    }
   },
   "cell_type": "code",
   "source": [
    "print(arr[3])\n",
    "print(arr.index(10))"
   ],
   "id": "7845ecb7fbcdcba8",
   "outputs": [
    {
     "name": "stdout",
     "output_type": "stream",
     "text": [
      "2\n",
      "5\n"
     ]
    }
   ],
   "execution_count": 24
  },
  {
   "metadata": {
    "ExecuteTime": {
     "end_time": "2025-10-17T10:35:18.786798Z",
     "start_time": "2025-10-17T10:35:04.068854Z"
    }
   },
   "cell_type": "code",
   "source": [
    "arr = array('i',[])\n",
    "x = int(input(\"Enter number of elements: \"))\n",
    "for i in range(x):\n",
    "    val = int(input(\"Enter value %d: \"%(i+1)))\n",
    "    arr.append(val)\n",
    "print(\"Array elements are: \")\n",
    "for i in arr:\n",
    "    print(i, end=' ')"
   ],
   "id": "928be5b6cc652e02",
   "outputs": [
    {
     "name": "stdout",
     "output_type": "stream",
     "text": [
      "Array elements are: \n",
      "1 2 3 4 5 "
     ]
    }
   ],
   "execution_count": 25
  },
  {
   "metadata": {},
   "cell_type": "code",
   "outputs": [],
   "execution_count": null,
   "source": "",
   "id": "44018d32020588de"
  }
 ],
 "metadata": {
  "kernelspec": {
   "display_name": "Python 3",
   "language": "python",
   "name": "python3"
  },
  "language_info": {
   "codemirror_mode": {
    "name": "ipython",
    "version": 2
   },
   "file_extension": ".py",
   "mimetype": "text/x-python",
   "name": "python",
   "nbconvert_exporter": "python",
   "pygments_lexer": "ipython2",
   "version": "2.7.6"
  }
 },
 "nbformat": 4,
 "nbformat_minor": 5
}
