{
 "cells": [
  {
   "cell_type": "code",
   "id": "initial_id",
   "metadata": {
    "collapsed": true,
    "ExecuteTime": {
     "end_time": "2025-10-20T08:26:21.267477Z",
     "start_time": "2025-10-20T08:26:20.308060Z"
    }
   },
   "source": [
    "import pandas as pd\n",
    "from jinja2.utils import concat"
   ],
   "outputs": [],
   "execution_count": 1
  },
  {
   "metadata": {
    "ExecuteTime": {
     "end_time": "2025-10-20T08:26:23.951337Z",
     "start_time": "2025-10-20T08:26:23.947858Z"
    }
   },
   "cell_type": "code",
   "source": "print(pd.__version__)",
   "id": "62621f00d57cabe2",
   "outputs": [
    {
     "name": "stdout",
     "output_type": "stream",
     "text": [
      "2.3.3\n"
     ]
    }
   ],
   "execution_count": 2
  },
  {
   "metadata": {},
   "cell_type": "markdown",
   "source": "Series create, manipulate, querry, delete",
   "id": "b6b5700913e2d70c"
  },
  {
   "metadata": {},
   "cell_type": "markdown",
   "source": "Series Creation",
   "id": "5689b2ae55be4319"
  },
  {
   "metadata": {
    "ExecuteTime": {
     "end_time": "2025-10-20T08:28:27.361769Z",
     "start_time": "2025-10-20T08:28:27.344138Z"
    }
   },
   "cell_type": "code",
   "source": [
    "arr = [10, 20, 30, 40, 50]\n",
    "s = pd.Series(arr)\n",
    "s"
   ],
   "id": "3bf902ac068f65f3",
   "outputs": [
    {
     "data": {
      "text/plain": [
       "0    10\n",
       "1    20\n",
       "2    30\n",
       "3    40\n",
       "4    50\n",
       "dtype: int64"
      ]
     },
     "execution_count": 3,
     "metadata": {},
     "output_type": "execute_result"
    }
   ],
   "execution_count": 3
  },
  {
   "metadata": {
    "ExecuteTime": {
     "end_time": "2025-10-20T08:29:17.909570Z",
     "start_time": "2025-10-20T08:29:17.903763Z"
    }
   },
   "cell_type": "code",
   "source": [
    "s2 = pd.Series(arr, index=['a', 'b', 'c', 'd', 'e'])\n",
    "s2"
   ],
   "id": "c10b63c8bacb7657",
   "outputs": [
    {
     "data": {
      "text/plain": [
       "a    10\n",
       "b    20\n",
       "c    30\n",
       "d    40\n",
       "e    50\n",
       "dtype: int64"
      ]
     },
     "execution_count": 4,
     "metadata": {},
     "output_type": "execute_result"
    }
   ],
   "execution_count": 4
  },
  {
   "metadata": {
    "ExecuteTime": {
     "end_time": "2025-10-20T08:30:49.745078Z",
     "start_time": "2025-10-20T08:30:49.731300Z"
    }
   },
   "cell_type": "code",
   "source": [
    "import numpy as np\n",
    "n= np.random.randn(5)\n",
    "index = ['a', 'b', 'c', 'd', 'e']\n",
    "s2 = pd.Series(n, index=index)\n",
    "s2"
   ],
   "id": "d0289900d4f72634",
   "outputs": [
    {
     "data": {
      "text/plain": [
       "a   -1.241364\n",
       "b    0.004335\n",
       "c    0.594279\n",
       "d    0.801864\n",
       "e    0.967889\n",
       "dtype: float64"
      ]
     },
     "execution_count": 5,
     "metadata": {},
     "output_type": "execute_result"
    }
   ],
   "execution_count": 5
  },
  {
   "metadata": {
    "ExecuteTime": {
     "end_time": "2025-10-20T08:31:30.532925Z",
     "start_time": "2025-10-20T08:31:30.527509Z"
    }
   },
   "cell_type": "code",
   "source": [
    "d={'a':10, 'b':20, 'c':30}\n",
    "s3 = pd.Series(d)\n",
    "s3"
   ],
   "id": "9455a3ce2da465c6",
   "outputs": [
    {
     "data": {
      "text/plain": [
       "a    10\n",
       "b    20\n",
       "c    30\n",
       "dtype: int64"
      ]
     },
     "execution_count": 6,
     "metadata": {},
     "output_type": "execute_result"
    }
   ],
   "execution_count": 6
  },
  {
   "metadata": {
    "ExecuteTime": {
     "end_time": "2025-10-20T08:33:20.158078Z",
     "start_time": "2025-10-20T08:33:20.152188Z"
    }
   },
   "cell_type": "code",
   "source": [
    "print(s)\n",
    "s.index =['one', 'two', 'three', 'four', 'five']\n",
    "print(s)"
   ],
   "id": "a30826b09423f326",
   "outputs": [
    {
     "name": "stdout",
     "output_type": "stream",
     "text": [
      "0    10\n",
      "1    20\n",
      "2    30\n",
      "3    40\n",
      "4    50\n",
      "dtype: int64\n",
      "one      10\n",
      "two      20\n",
      "three    30\n",
      "four     40\n",
      "five     50\n",
      "dtype: int64\n"
     ]
    }
   ],
   "execution_count": 8
  },
  {
   "metadata": {
    "ExecuteTime": {
     "end_time": "2025-10-20T08:34:11.150624Z",
     "start_time": "2025-10-20T08:34:11.145606Z"
    }
   },
   "cell_type": "code",
   "source": "s[:3]\n",
   "id": "385597fb001524b0",
   "outputs": [
    {
     "data": {
      "text/plain": [
       "one      10\n",
       "two      20\n",
       "three    30\n",
       "dtype: int64"
      ]
     },
     "execution_count": 10,
     "metadata": {},
     "output_type": "execute_result"
    }
   ],
   "execution_count": 10
  },
  {
   "metadata": {
    "ExecuteTime": {
     "end_time": "2025-10-20T08:49:35.969205Z",
     "start_time": "2025-10-20T08:49:35.961392Z"
    }
   },
   "cell_type": "code",
   "source": [
    "s4=pd.concat([s3, s2])\n",
    "s4"
   ],
   "id": "c69fc126fca29006",
   "outputs": [
    {
     "data": {
      "text/plain": [
       "a    10.000000\n",
       "b    20.000000\n",
       "c    30.000000\n",
       "a    -1.241364\n",
       "b     0.004335\n",
       "c     0.594279\n",
       "d     0.801864\n",
       "e     0.967889\n",
       "dtype: float64"
      ]
     },
     "execution_count": 16,
     "metadata": {},
     "output_type": "execute_result"
    }
   ],
   "execution_count": 16
  },
  {
   "metadata": {
    "ExecuteTime": {
     "end_time": "2025-10-20T08:51:39.895261Z",
     "start_time": "2025-10-20T08:51:39.891604Z"
    }
   },
   "cell_type": "code",
   "source": "print(s4)",
   "id": "b43424d16e3415d7",
   "outputs": [
    {
     "name": "stdout",
     "output_type": "stream",
     "text": [
      "b    20.000000\n",
      "c    30.000000\n",
      "b     0.004335\n",
      "c     0.594279\n",
      "d     0.801864\n",
      "e     0.967889\n",
      "dtype: float64\n"
     ]
    }
   ],
   "execution_count": 21
  },
  {
   "metadata": {
    "ExecuteTime": {
     "end_time": "2025-10-20T08:52:31.150843Z",
     "start_time": "2025-10-20T08:52:31.146582Z"
    }
   },
   "cell_type": "code",
   "source": [
    "arr1= [0, 1, 2, 3, 4,10,11]\n",
    "arr2= [5, 6, 7, 8, 9]"
   ],
   "id": "ba9c22f4fed8929b",
   "outputs": [],
   "execution_count": 22
  },
  {
   "metadata": {
    "ExecuteTime": {
     "end_time": "2025-10-20T08:53:02.195674Z",
     "start_time": "2025-10-20T08:53:02.189649Z"
    }
   },
   "cell_type": "code",
   "source": [
    "s5 =pd.Series(arr2)\n",
    "s5"
   ],
   "id": "f866a6db5ec3297b",
   "outputs": [
    {
     "data": {
      "text/plain": [
       "0    5\n",
       "1    6\n",
       "2    7\n",
       "3    8\n",
       "4    9\n",
       "dtype: int64"
      ]
     },
     "execution_count": 23,
     "metadata": {},
     "output_type": "execute_result"
    }
   ],
   "execution_count": 23
  },
  {
   "metadata": {
    "ExecuteTime": {
     "end_time": "2025-10-20T08:53:18.442941Z",
     "start_time": "2025-10-20T08:53:18.437733Z"
    }
   },
   "cell_type": "code",
   "source": [
    "s6=pd.Series(arr1)\n",
    "s6"
   ],
   "id": "2a8d78aa20b3b4c0",
   "outputs": [
    {
     "data": {
      "text/plain": [
       "0     0\n",
       "1     1\n",
       "2     2\n",
       "3     3\n",
       "4     4\n",
       "5    10\n",
       "6    11\n",
       "dtype: int64"
      ]
     },
     "execution_count": 24,
     "metadata": {},
     "output_type": "execute_result"
    }
   ],
   "execution_count": 24
  },
  {
   "metadata": {
    "ExecuteTime": {
     "end_time": "2025-10-20T08:53:46.233716Z",
     "start_time": "2025-10-20T08:53:46.222398Z"
    }
   },
   "cell_type": "code",
   "source": "s5.add(s6)",
   "id": "1476d93586a573e7",
   "outputs": [
    {
     "data": {
      "text/plain": [
       "0     5.0\n",
       "1     7.0\n",
       "2     9.0\n",
       "3    11.0\n",
       "4    13.0\n",
       "5     NaN\n",
       "6     NaN\n",
       "dtype: float64"
      ]
     },
     "execution_count": 25,
     "metadata": {},
     "output_type": "execute_result"
    }
   ],
   "execution_count": 25
  },
  {
   "metadata": {
    "ExecuteTime": {
     "end_time": "2025-10-20T08:54:18.796052Z",
     "start_time": "2025-10-20T08:54:18.784489Z"
    }
   },
   "cell_type": "code",
   "source": "s5.sub(s6)",
   "id": "4ef3d9579b0d5ecd",
   "outputs": [
    {
     "data": {
      "text/plain": [
       "0    5.0\n",
       "1    5.0\n",
       "2    5.0\n",
       "3    5.0\n",
       "4    5.0\n",
       "5    NaN\n",
       "6    NaN\n",
       "dtype: float64"
      ]
     },
     "execution_count": 26,
     "metadata": {},
     "output_type": "execute_result"
    }
   ],
   "execution_count": 26
  },
  {
   "metadata": {
    "ExecuteTime": {
     "end_time": "2025-10-20T08:54:53.935443Z",
     "start_time": "2025-10-20T08:54:53.930688Z"
    }
   },
   "cell_type": "code",
   "source": "s5.mul(s6)",
   "id": "4c7696775e577208",
   "outputs": [
    {
     "data": {
      "text/plain": [
       "0     0.0\n",
       "1     6.0\n",
       "2    14.0\n",
       "3    24.0\n",
       "4    36.0\n",
       "5     NaN\n",
       "6     NaN\n",
       "dtype: float64"
      ]
     },
     "execution_count": 28,
     "metadata": {},
     "output_type": "execute_result"
    }
   ],
   "execution_count": 28
  },
  {
   "metadata": {
    "ExecuteTime": {
     "end_time": "2025-10-20T08:55:06.460652Z",
     "start_time": "2025-10-20T08:55:06.455528Z"
    }
   },
   "cell_type": "code",
   "source": "s5.div(s6)",
   "id": "28ba86fbbf18f0d6",
   "outputs": [
    {
     "data": {
      "text/plain": [
       "0         inf\n",
       "1    6.000000\n",
       "2    3.500000\n",
       "3    2.666667\n",
       "4    2.250000\n",
       "5         NaN\n",
       "6         NaN\n",
       "dtype: float64"
      ]
     },
     "execution_count": 29,
     "metadata": {},
     "output_type": "execute_result"
    }
   ],
   "execution_count": 29
  },
  {
   "metadata": {
    "ExecuteTime": {
     "end_time": "2025-10-20T08:59:51.387407Z",
     "start_time": "2025-10-20T08:59:51.381Z"
    }
   },
   "cell_type": "code",
   "source": [
    "print(s6)\n",
    "print('median:', s6.median())\n",
    "print('mean:', s6.mean())\n",
    "print('max:', s6.max())\n",
    "print('min:', s6.min())"
   ],
   "id": "10f739d395f73a4",
   "outputs": [
    {
     "name": "stdout",
     "output_type": "stream",
     "text": [
      "0     0\n",
      "1     1\n",
      "2     2\n",
      "3     3\n",
      "4     4\n",
      "5    10\n",
      "6    11\n",
      "dtype: int64\n",
      "median: 3.0\n",
      "mean: 4.428571428571429\n",
      "max: 11\n",
      "min: 0\n"
     ]
    }
   ],
   "execution_count": 32
  },
  {
   "metadata": {
    "ExecuteTime": {
     "end_time": "2025-10-20T09:01:07.837770Z",
     "start_time": "2025-10-20T09:01:07.827972Z"
    }
   },
   "cell_type": "markdown",
   "source": "Create Dataframe",
   "id": "96c592934b71a670"
  },
  {
   "metadata": {
    "ExecuteTime": {
     "end_time": "2025-10-20T09:03:34.457357Z",
     "start_time": "2025-10-20T09:03:34.444769Z"
    }
   },
   "cell_type": "code",
   "source": [
    "dates= pd.date_range('today', periods=6)\n",
    "num_arr = np.random.randn(6,4)\n",
    "columns = ['A', 'B', 'C', 'D']\n",
    "df1 = pd.DataFrame(num_arr, index=dates, columns=columns)\n",
    "df1"
   ],
   "id": "1607c9e5f8bce8ac",
   "outputs": [
    {
     "data": {
      "text/plain": [
       "                                   A         B         C         D\n",
       "2025-10-20 15:03:34.446780 -1.209956 -0.700494  0.406015  0.989560\n",
       "2025-10-21 15:03:34.446780  1.748331  0.698427 -1.037681 -0.521846\n",
       "2025-10-22 15:03:34.446780  0.016155 -0.674393  0.964905  0.103489\n",
       "2025-10-23 15:03:34.446780 -2.167415 -0.922028 -0.801349 -1.324479\n",
       "2025-10-24 15:03:34.446780  1.113541 -0.402955 -0.159015 -0.764710\n",
       "2025-10-25 15:03:34.446780  0.566823 -1.009427  1.430310  0.428727"
      ],
      "text/html": [
       "<div>\n",
       "<style scoped>\n",
       "    .dataframe tbody tr th:only-of-type {\n",
       "        vertical-align: middle;\n",
       "    }\n",
       "\n",
       "    .dataframe tbody tr th {\n",
       "        vertical-align: top;\n",
       "    }\n",
       "\n",
       "    .dataframe thead th {\n",
       "        text-align: right;\n",
       "    }\n",
       "</style>\n",
       "<table border=\"1\" class=\"dataframe\">\n",
       "  <thead>\n",
       "    <tr style=\"text-align: right;\">\n",
       "      <th></th>\n",
       "      <th>A</th>\n",
       "      <th>B</th>\n",
       "      <th>C</th>\n",
       "      <th>D</th>\n",
       "    </tr>\n",
       "  </thead>\n",
       "  <tbody>\n",
       "    <tr>\n",
       "      <th>2025-10-20 15:03:34.446780</th>\n",
       "      <td>-1.209956</td>\n",
       "      <td>-0.700494</td>\n",
       "      <td>0.406015</td>\n",
       "      <td>0.989560</td>\n",
       "    </tr>\n",
       "    <tr>\n",
       "      <th>2025-10-21 15:03:34.446780</th>\n",
       "      <td>1.748331</td>\n",
       "      <td>0.698427</td>\n",
       "      <td>-1.037681</td>\n",
       "      <td>-0.521846</td>\n",
       "    </tr>\n",
       "    <tr>\n",
       "      <th>2025-10-22 15:03:34.446780</th>\n",
       "      <td>0.016155</td>\n",
       "      <td>-0.674393</td>\n",
       "      <td>0.964905</td>\n",
       "      <td>0.103489</td>\n",
       "    </tr>\n",
       "    <tr>\n",
       "      <th>2025-10-23 15:03:34.446780</th>\n",
       "      <td>-2.167415</td>\n",
       "      <td>-0.922028</td>\n",
       "      <td>-0.801349</td>\n",
       "      <td>-1.324479</td>\n",
       "    </tr>\n",
       "    <tr>\n",
       "      <th>2025-10-24 15:03:34.446780</th>\n",
       "      <td>1.113541</td>\n",
       "      <td>-0.402955</td>\n",
       "      <td>-0.159015</td>\n",
       "      <td>-0.764710</td>\n",
       "    </tr>\n",
       "    <tr>\n",
       "      <th>2025-10-25 15:03:34.446780</th>\n",
       "      <td>0.566823</td>\n",
       "      <td>-1.009427</td>\n",
       "      <td>1.430310</td>\n",
       "      <td>0.428727</td>\n",
       "    </tr>\n",
       "  </tbody>\n",
       "</table>\n",
       "</div>"
      ]
     },
     "execution_count": 35,
     "metadata": {},
     "output_type": "execute_result"
    }
   ],
   "execution_count": 35
  },
  {
   "metadata": {
    "ExecuteTime": {
     "end_time": "2025-10-20T09:06:41.805831Z",
     "start_time": "2025-10-20T09:06:41.791794Z"
    }
   },
   "cell_type": "code",
   "source": [
    "data = {'animals': ['cat', 'dog', 'bird', 'fish'],\n",
    "        'age': [2, 5, 3, 1],\n",
    "        'weight': [4.5, 20.2, 0.5, 0.3],\n",
    "         'priority': ['high', 'medium', 'low', 'medium']\n",
    "}\n",
    "labels = ['a', 'b', 'c', 'd']\n",
    "df2 = pd.DataFrame(data, index=labels)\n",
    "df2"
   ],
   "id": "2c1451362139dcbe",
   "outputs": [
    {
     "data": {
      "text/plain": [
       "  animals  age  weight priority\n",
       "a     cat    2     4.5     high\n",
       "b     dog    5    20.2   medium\n",
       "c    bird    3     0.5      low\n",
       "d    fish    1     0.3   medium"
      ],
      "text/html": [
       "<div>\n",
       "<style scoped>\n",
       "    .dataframe tbody tr th:only-of-type {\n",
       "        vertical-align: middle;\n",
       "    }\n",
       "\n",
       "    .dataframe tbody tr th {\n",
       "        vertical-align: top;\n",
       "    }\n",
       "\n",
       "    .dataframe thead th {\n",
       "        text-align: right;\n",
       "    }\n",
       "</style>\n",
       "<table border=\"1\" class=\"dataframe\">\n",
       "  <thead>\n",
       "    <tr style=\"text-align: right;\">\n",
       "      <th></th>\n",
       "      <th>animals</th>\n",
       "      <th>age</th>\n",
       "      <th>weight</th>\n",
       "      <th>priority</th>\n",
       "    </tr>\n",
       "  </thead>\n",
       "  <tbody>\n",
       "    <tr>\n",
       "      <th>a</th>\n",
       "      <td>cat</td>\n",
       "      <td>2</td>\n",
       "      <td>4.5</td>\n",
       "      <td>high</td>\n",
       "    </tr>\n",
       "    <tr>\n",
       "      <th>b</th>\n",
       "      <td>dog</td>\n",
       "      <td>5</td>\n",
       "      <td>20.2</td>\n",
       "      <td>medium</td>\n",
       "    </tr>\n",
       "    <tr>\n",
       "      <th>c</th>\n",
       "      <td>bird</td>\n",
       "      <td>3</td>\n",
       "      <td>0.5</td>\n",
       "      <td>low</td>\n",
       "    </tr>\n",
       "    <tr>\n",
       "      <th>d</th>\n",
       "      <td>fish</td>\n",
       "      <td>1</td>\n",
       "      <td>0.3</td>\n",
       "      <td>medium</td>\n",
       "    </tr>\n",
       "  </tbody>\n",
       "</table>\n",
       "</div>"
      ]
     },
     "execution_count": 36,
     "metadata": {},
     "output_type": "execute_result"
    }
   ],
   "execution_count": 36
  },
  {
   "metadata": {
    "ExecuteTime": {
     "end_time": "2025-10-20T09:07:11.529535Z",
     "start_time": "2025-10-20T09:07:11.522807Z"
    }
   },
   "cell_type": "code",
   "source": "df2.dtypes",
   "id": "5834b1a4aae8fc4",
   "outputs": [
    {
     "data": {
      "text/plain": [
       "animals      object\n",
       "age           int64\n",
       "weight      float64\n",
       "priority     object\n",
       "dtype: object"
      ]
     },
     "execution_count": 37,
     "metadata": {},
     "output_type": "execute_result"
    }
   ],
   "execution_count": 37
  },
  {
   "metadata": {
    "ExecuteTime": {
     "end_time": "2025-10-20T09:07:47.370302Z",
     "start_time": "2025-10-20T09:07:47.364178Z"
    }
   },
   "cell_type": "code",
   "source": "df2.head(3)",
   "id": "80fd7e5c74c18235",
   "outputs": [
    {
     "data": {
      "text/plain": [
       "  animals  age  weight priority\n",
       "a     cat    2     4.5     high\n",
       "b     dog    5    20.2   medium\n",
       "c    bird    3     0.5      low"
      ],
      "text/html": [
       "<div>\n",
       "<style scoped>\n",
       "    .dataframe tbody tr th:only-of-type {\n",
       "        vertical-align: middle;\n",
       "    }\n",
       "\n",
       "    .dataframe tbody tr th {\n",
       "        vertical-align: top;\n",
       "    }\n",
       "\n",
       "    .dataframe thead th {\n",
       "        text-align: right;\n",
       "    }\n",
       "</style>\n",
       "<table border=\"1\" class=\"dataframe\">\n",
       "  <thead>\n",
       "    <tr style=\"text-align: right;\">\n",
       "      <th></th>\n",
       "      <th>animals</th>\n",
       "      <th>age</th>\n",
       "      <th>weight</th>\n",
       "      <th>priority</th>\n",
       "    </tr>\n",
       "  </thead>\n",
       "  <tbody>\n",
       "    <tr>\n",
       "      <th>a</th>\n",
       "      <td>cat</td>\n",
       "      <td>2</td>\n",
       "      <td>4.5</td>\n",
       "      <td>high</td>\n",
       "    </tr>\n",
       "    <tr>\n",
       "      <th>b</th>\n",
       "      <td>dog</td>\n",
       "      <td>5</td>\n",
       "      <td>20.2</td>\n",
       "      <td>medium</td>\n",
       "    </tr>\n",
       "    <tr>\n",
       "      <th>c</th>\n",
       "      <td>bird</td>\n",
       "      <td>3</td>\n",
       "      <td>0.5</td>\n",
       "      <td>low</td>\n",
       "    </tr>\n",
       "  </tbody>\n",
       "</table>\n",
       "</div>"
      ]
     },
     "execution_count": 38,
     "metadata": {},
     "output_type": "execute_result"
    }
   ],
   "execution_count": 38
  },
  {
   "metadata": {
    "ExecuteTime": {
     "end_time": "2025-10-20T09:08:06.908368Z",
     "start_time": "2025-10-20T09:08:06.901742Z"
    }
   },
   "cell_type": "code",
   "source": "df2.tail(2)",
   "id": "a748c3ce8258cef2",
   "outputs": [
    {
     "data": {
      "text/plain": [
       "  animals  age  weight priority\n",
       "c    bird    3     0.5      low\n",
       "d    fish    1     0.3   medium"
      ],
      "text/html": [
       "<div>\n",
       "<style scoped>\n",
       "    .dataframe tbody tr th:only-of-type {\n",
       "        vertical-align: middle;\n",
       "    }\n",
       "\n",
       "    .dataframe tbody tr th {\n",
       "        vertical-align: top;\n",
       "    }\n",
       "\n",
       "    .dataframe thead th {\n",
       "        text-align: right;\n",
       "    }\n",
       "</style>\n",
       "<table border=\"1\" class=\"dataframe\">\n",
       "  <thead>\n",
       "    <tr style=\"text-align: right;\">\n",
       "      <th></th>\n",
       "      <th>animals</th>\n",
       "      <th>age</th>\n",
       "      <th>weight</th>\n",
       "      <th>priority</th>\n",
       "    </tr>\n",
       "  </thead>\n",
       "  <tbody>\n",
       "    <tr>\n",
       "      <th>c</th>\n",
       "      <td>bird</td>\n",
       "      <td>3</td>\n",
       "      <td>0.5</td>\n",
       "      <td>low</td>\n",
       "    </tr>\n",
       "    <tr>\n",
       "      <th>d</th>\n",
       "      <td>fish</td>\n",
       "      <td>1</td>\n",
       "      <td>0.3</td>\n",
       "      <td>medium</td>\n",
       "    </tr>\n",
       "  </tbody>\n",
       "</table>\n",
       "</div>"
      ]
     },
     "execution_count": 39,
     "metadata": {},
     "output_type": "execute_result"
    }
   ],
   "execution_count": 39
  },
  {
   "metadata": {
    "ExecuteTime": {
     "end_time": "2025-10-20T09:40:18.158621Z",
     "start_time": "2025-10-20T09:40:18.153696Z"
    }
   },
   "cell_type": "code",
   "source": [
    "df2.index\n",
    "df2.columns"
   ],
   "id": "1509d274f62c6e44",
   "outputs": [
    {
     "data": {
      "text/plain": [
       "Index(['animals', 'age', 'weight', 'priority'], dtype='object')"
      ]
     },
     "execution_count": 42,
     "metadata": {},
     "output_type": "execute_result"
    }
   ],
   "execution_count": 42
  },
  {
   "metadata": {
    "ExecuteTime": {
     "end_time": "2025-10-20T09:40:32.986144Z",
     "start_time": "2025-10-20T09:40:32.980867Z"
    }
   },
   "cell_type": "code",
   "source": "df2.values",
   "id": "a7c1f934c7cf806",
   "outputs": [
    {
     "data": {
      "text/plain": [
       "array([['cat', 2, 4.5, 'high'],\n",
       "       ['dog', 5, 20.2, 'medium'],\n",
       "       ['bird', 3, 0.5, 'low'],\n",
       "       ['fish', 1, 0.3, 'medium']], dtype=object)"
      ]
     },
     "execution_count": 43,
     "metadata": {},
     "output_type": "execute_result"
    }
   ],
   "execution_count": 43
  },
  {
   "metadata": {
    "ExecuteTime": {
     "end_time": "2025-10-20T09:42:31.929568Z",
     "start_time": "2025-10-20T09:42:31.904060Z"
    }
   },
   "cell_type": "code",
   "source": "df2.describe()",
   "id": "5a098727b32157ad",
   "outputs": [
    {
     "data": {
      "text/plain": [
       "            age     weight\n",
       "count  4.000000   4.000000\n",
       "mean   2.750000   6.375000\n",
       "std    1.707825   9.417493\n",
       "min    1.000000   0.300000\n",
       "25%    1.750000   0.450000\n",
       "50%    2.500000   2.500000\n",
       "75%    3.500000   8.425000\n",
       "max    5.000000  20.200000"
      ],
      "text/html": [
       "<div>\n",
       "<style scoped>\n",
       "    .dataframe tbody tr th:only-of-type {\n",
       "        vertical-align: middle;\n",
       "    }\n",
       "\n",
       "    .dataframe tbody tr th {\n",
       "        vertical-align: top;\n",
       "    }\n",
       "\n",
       "    .dataframe thead th {\n",
       "        text-align: right;\n",
       "    }\n",
       "</style>\n",
       "<table border=\"1\" class=\"dataframe\">\n",
       "  <thead>\n",
       "    <tr style=\"text-align: right;\">\n",
       "      <th></th>\n",
       "      <th>age</th>\n",
       "      <th>weight</th>\n",
       "    </tr>\n",
       "  </thead>\n",
       "  <tbody>\n",
       "    <tr>\n",
       "      <th>count</th>\n",
       "      <td>4.000000</td>\n",
       "      <td>4.000000</td>\n",
       "    </tr>\n",
       "    <tr>\n",
       "      <th>mean</th>\n",
       "      <td>2.750000</td>\n",
       "      <td>6.375000</td>\n",
       "    </tr>\n",
       "    <tr>\n",
       "      <th>std</th>\n",
       "      <td>1.707825</td>\n",
       "      <td>9.417493</td>\n",
       "    </tr>\n",
       "    <tr>\n",
       "      <th>min</th>\n",
       "      <td>1.000000</td>\n",
       "      <td>0.300000</td>\n",
       "    </tr>\n",
       "    <tr>\n",
       "      <th>25%</th>\n",
       "      <td>1.750000</td>\n",
       "      <td>0.450000</td>\n",
       "    </tr>\n",
       "    <tr>\n",
       "      <th>50%</th>\n",
       "      <td>2.500000</td>\n",
       "      <td>2.500000</td>\n",
       "    </tr>\n",
       "    <tr>\n",
       "      <th>75%</th>\n",
       "      <td>3.500000</td>\n",
       "      <td>8.425000</td>\n",
       "    </tr>\n",
       "    <tr>\n",
       "      <th>max</th>\n",
       "      <td>5.000000</td>\n",
       "      <td>20.200000</td>\n",
       "    </tr>\n",
       "  </tbody>\n",
       "</table>\n",
       "</div>"
      ]
     },
     "execution_count": 44,
     "metadata": {},
     "output_type": "execute_result"
    }
   ],
   "execution_count": 44
  },
  {
   "metadata": {
    "ExecuteTime": {
     "end_time": "2025-10-20T09:43:39.270831Z",
     "start_time": "2025-10-20T09:43:39.262433Z"
    }
   },
   "cell_type": "code",
   "source": "df2.T",
   "id": "8fa67b9e12d679f0",
   "outputs": [
    {
     "data": {
      "text/plain": [
       "             a       b     c       d\n",
       "animals    cat     dog  bird    fish\n",
       "age          2       5     3       1\n",
       "weight     4.5    20.2   0.5     0.3\n",
       "priority  high  medium   low  medium"
      ],
      "text/html": [
       "<div>\n",
       "<style scoped>\n",
       "    .dataframe tbody tr th:only-of-type {\n",
       "        vertical-align: middle;\n",
       "    }\n",
       "\n",
       "    .dataframe tbody tr th {\n",
       "        vertical-align: top;\n",
       "    }\n",
       "\n",
       "    .dataframe thead th {\n",
       "        text-align: right;\n",
       "    }\n",
       "</style>\n",
       "<table border=\"1\" class=\"dataframe\">\n",
       "  <thead>\n",
       "    <tr style=\"text-align: right;\">\n",
       "      <th></th>\n",
       "      <th>a</th>\n",
       "      <th>b</th>\n",
       "      <th>c</th>\n",
       "      <th>d</th>\n",
       "    </tr>\n",
       "  </thead>\n",
       "  <tbody>\n",
       "    <tr>\n",
       "      <th>animals</th>\n",
       "      <td>cat</td>\n",
       "      <td>dog</td>\n",
       "      <td>bird</td>\n",
       "      <td>fish</td>\n",
       "    </tr>\n",
       "    <tr>\n",
       "      <th>age</th>\n",
       "      <td>2</td>\n",
       "      <td>5</td>\n",
       "      <td>3</td>\n",
       "      <td>1</td>\n",
       "    </tr>\n",
       "    <tr>\n",
       "      <th>weight</th>\n",
       "      <td>4.5</td>\n",
       "      <td>20.2</td>\n",
       "      <td>0.5</td>\n",
       "      <td>0.3</td>\n",
       "    </tr>\n",
       "    <tr>\n",
       "      <th>priority</th>\n",
       "      <td>high</td>\n",
       "      <td>medium</td>\n",
       "      <td>low</td>\n",
       "      <td>medium</td>\n",
       "    </tr>\n",
       "  </tbody>\n",
       "</table>\n",
       "</div>"
      ]
     },
     "execution_count": 45,
     "metadata": {},
     "output_type": "execute_result"
    }
   ],
   "execution_count": 45
  },
  {
   "metadata": {
    "ExecuteTime": {
     "end_time": "2025-10-20T09:44:20.554744Z",
     "start_time": "2025-10-20T09:44:20.538216Z"
    }
   },
   "cell_type": "code",
   "source": "df2.sort_values(by='age')",
   "id": "82ab66c17f5af927",
   "outputs": [
    {
     "data": {
      "text/plain": [
       "  animals  age  weight priority\n",
       "d    fish    1     0.3   medium\n",
       "a     cat    2     4.5     high\n",
       "c    bird    3     0.5      low\n",
       "b     dog    5    20.2   medium"
      ],
      "text/html": [
       "<div>\n",
       "<style scoped>\n",
       "    .dataframe tbody tr th:only-of-type {\n",
       "        vertical-align: middle;\n",
       "    }\n",
       "\n",
       "    .dataframe tbody tr th {\n",
       "        vertical-align: top;\n",
       "    }\n",
       "\n",
       "    .dataframe thead th {\n",
       "        text-align: right;\n",
       "    }\n",
       "</style>\n",
       "<table border=\"1\" class=\"dataframe\">\n",
       "  <thead>\n",
       "    <tr style=\"text-align: right;\">\n",
       "      <th></th>\n",
       "      <th>animals</th>\n",
       "      <th>age</th>\n",
       "      <th>weight</th>\n",
       "      <th>priority</th>\n",
       "    </tr>\n",
       "  </thead>\n",
       "  <tbody>\n",
       "    <tr>\n",
       "      <th>d</th>\n",
       "      <td>fish</td>\n",
       "      <td>1</td>\n",
       "      <td>0.3</td>\n",
       "      <td>medium</td>\n",
       "    </tr>\n",
       "    <tr>\n",
       "      <th>a</th>\n",
       "      <td>cat</td>\n",
       "      <td>2</td>\n",
       "      <td>4.5</td>\n",
       "      <td>high</td>\n",
       "    </tr>\n",
       "    <tr>\n",
       "      <th>c</th>\n",
       "      <td>bird</td>\n",
       "      <td>3</td>\n",
       "      <td>0.5</td>\n",
       "      <td>low</td>\n",
       "    </tr>\n",
       "    <tr>\n",
       "      <th>b</th>\n",
       "      <td>dog</td>\n",
       "      <td>5</td>\n",
       "      <td>20.2</td>\n",
       "      <td>medium</td>\n",
       "    </tr>\n",
       "  </tbody>\n",
       "</table>\n",
       "</div>"
      ]
     },
     "execution_count": 46,
     "metadata": {},
     "output_type": "execute_result"
    }
   ],
   "execution_count": 46
  },
  {
   "metadata": {
    "ExecuteTime": {
     "end_time": "2025-10-20T09:46:00.066829Z",
     "start_time": "2025-10-20T09:46:00.060656Z"
    }
   },
   "cell_type": "code",
   "source": "df2.sort_values(by='age')[1:3]",
   "id": "1dc76684b8f91ddc",
   "outputs": [
    {
     "data": {
      "text/plain": [
       "  animals  age  weight priority\n",
       "a     cat    2     4.5     high\n",
       "c    bird    3     0.5      low"
      ],
      "text/html": [
       "<div>\n",
       "<style scoped>\n",
       "    .dataframe tbody tr th:only-of-type {\n",
       "        vertical-align: middle;\n",
       "    }\n",
       "\n",
       "    .dataframe tbody tr th {\n",
       "        vertical-align: top;\n",
       "    }\n",
       "\n",
       "    .dataframe thead th {\n",
       "        text-align: right;\n",
       "    }\n",
       "</style>\n",
       "<table border=\"1\" class=\"dataframe\">\n",
       "  <thead>\n",
       "    <tr style=\"text-align: right;\">\n",
       "      <th></th>\n",
       "      <th>animals</th>\n",
       "      <th>age</th>\n",
       "      <th>weight</th>\n",
       "      <th>priority</th>\n",
       "    </tr>\n",
       "  </thead>\n",
       "  <tbody>\n",
       "    <tr>\n",
       "      <th>a</th>\n",
       "      <td>cat</td>\n",
       "      <td>2</td>\n",
       "      <td>4.5</td>\n",
       "      <td>high</td>\n",
       "    </tr>\n",
       "    <tr>\n",
       "      <th>c</th>\n",
       "      <td>bird</td>\n",
       "      <td>3</td>\n",
       "      <td>0.5</td>\n",
       "      <td>low</td>\n",
       "    </tr>\n",
       "  </tbody>\n",
       "</table>\n",
       "</div>"
      ]
     },
     "execution_count": 49,
     "metadata": {},
     "output_type": "execute_result"
    }
   ],
   "execution_count": 49
  },
  {
   "metadata": {
    "ExecuteTime": {
     "end_time": "2025-10-20T09:46:26.371700Z",
     "start_time": "2025-10-20T09:46:26.358458Z"
    }
   },
   "cell_type": "code",
   "source": "df2[['animals', 'weight']]",
   "id": "766acb59664208d5",
   "outputs": [
    {
     "data": {
      "text/plain": [
       "  animals  weight\n",
       "a     cat     4.5\n",
       "b     dog    20.2\n",
       "c    bird     0.5\n",
       "d    fish     0.3"
      ],
      "text/html": [
       "<div>\n",
       "<style scoped>\n",
       "    .dataframe tbody tr th:only-of-type {\n",
       "        vertical-align: middle;\n",
       "    }\n",
       "\n",
       "    .dataframe tbody tr th {\n",
       "        vertical-align: top;\n",
       "    }\n",
       "\n",
       "    .dataframe thead th {\n",
       "        text-align: right;\n",
       "    }\n",
       "</style>\n",
       "<table border=\"1\" class=\"dataframe\">\n",
       "  <thead>\n",
       "    <tr style=\"text-align: right;\">\n",
       "      <th></th>\n",
       "      <th>animals</th>\n",
       "      <th>weight</th>\n",
       "    </tr>\n",
       "  </thead>\n",
       "  <tbody>\n",
       "    <tr>\n",
       "      <th>a</th>\n",
       "      <td>cat</td>\n",
       "      <td>4.5</td>\n",
       "    </tr>\n",
       "    <tr>\n",
       "      <th>b</th>\n",
       "      <td>dog</td>\n",
       "      <td>20.2</td>\n",
       "    </tr>\n",
       "    <tr>\n",
       "      <th>c</th>\n",
       "      <td>bird</td>\n",
       "      <td>0.5</td>\n",
       "    </tr>\n",
       "    <tr>\n",
       "      <th>d</th>\n",
       "      <td>fish</td>\n",
       "      <td>0.3</td>\n",
       "    </tr>\n",
       "  </tbody>\n",
       "</table>\n",
       "</div>"
      ]
     },
     "execution_count": 50,
     "metadata": {},
     "output_type": "execute_result"
    }
   ],
   "execution_count": 50
  },
  {
   "metadata": {
    "ExecuteTime": {
     "end_time": "2025-10-20T09:46:38.570985Z",
     "start_time": "2025-10-20T09:46:38.565636Z"
    }
   },
   "cell_type": "code",
   "source": "df2.iloc[1:3, 0:2]",
   "id": "308d5c66338a7035",
   "outputs": [
    {
     "data": {
      "text/plain": [
       "  animals  age\n",
       "b     dog    5\n",
       "c    bird    3"
      ],
      "text/html": [
       "<div>\n",
       "<style scoped>\n",
       "    .dataframe tbody tr th:only-of-type {\n",
       "        vertical-align: middle;\n",
       "    }\n",
       "\n",
       "    .dataframe tbody tr th {\n",
       "        vertical-align: top;\n",
       "    }\n",
       "\n",
       "    .dataframe thead th {\n",
       "        text-align: right;\n",
       "    }\n",
       "</style>\n",
       "<table border=\"1\" class=\"dataframe\">\n",
       "  <thead>\n",
       "    <tr style=\"text-align: right;\">\n",
       "      <th></th>\n",
       "      <th>animals</th>\n",
       "      <th>age</th>\n",
       "    </tr>\n",
       "  </thead>\n",
       "  <tbody>\n",
       "    <tr>\n",
       "      <th>b</th>\n",
       "      <td>dog</td>\n",
       "      <td>5</td>\n",
       "    </tr>\n",
       "    <tr>\n",
       "      <th>c</th>\n",
       "      <td>bird</td>\n",
       "      <td>3</td>\n",
       "    </tr>\n",
       "  </tbody>\n",
       "</table>\n",
       "</div>"
      ]
     },
     "execution_count": 51,
     "metadata": {},
     "output_type": "execute_result"
    }
   ],
   "execution_count": 51
  },
  {
   "metadata": {
    "ExecuteTime": {
     "end_time": "2025-10-20T09:47:16.199689Z",
     "start_time": "2025-10-20T09:47:16.193313Z"
    }
   },
   "cell_type": "code",
   "source": [
    "df3 = df2.copy()\n",
    "df3"
   ],
   "id": "1023e0b1a05a86bc",
   "outputs": [
    {
     "data": {
      "text/plain": [
       "  animals  age  weight priority\n",
       "a     cat    2     4.5     high\n",
       "b     dog    5    20.2   medium\n",
       "c    bird    3     0.5      low\n",
       "d    fish    1     0.3   medium"
      ],
      "text/html": [
       "<div>\n",
       "<style scoped>\n",
       "    .dataframe tbody tr th:only-of-type {\n",
       "        vertical-align: middle;\n",
       "    }\n",
       "\n",
       "    .dataframe tbody tr th {\n",
       "        vertical-align: top;\n",
       "    }\n",
       "\n",
       "    .dataframe thead th {\n",
       "        text-align: right;\n",
       "    }\n",
       "</style>\n",
       "<table border=\"1\" class=\"dataframe\">\n",
       "  <thead>\n",
       "    <tr style=\"text-align: right;\">\n",
       "      <th></th>\n",
       "      <th>animals</th>\n",
       "      <th>age</th>\n",
       "      <th>weight</th>\n",
       "      <th>priority</th>\n",
       "    </tr>\n",
       "  </thead>\n",
       "  <tbody>\n",
       "    <tr>\n",
       "      <th>a</th>\n",
       "      <td>cat</td>\n",
       "      <td>2</td>\n",
       "      <td>4.5</td>\n",
       "      <td>high</td>\n",
       "    </tr>\n",
       "    <tr>\n",
       "      <th>b</th>\n",
       "      <td>dog</td>\n",
       "      <td>5</td>\n",
       "      <td>20.2</td>\n",
       "      <td>medium</td>\n",
       "    </tr>\n",
       "    <tr>\n",
       "      <th>c</th>\n",
       "      <td>bird</td>\n",
       "      <td>3</td>\n",
       "      <td>0.5</td>\n",
       "      <td>low</td>\n",
       "    </tr>\n",
       "    <tr>\n",
       "      <th>d</th>\n",
       "      <td>fish</td>\n",
       "      <td>1</td>\n",
       "      <td>0.3</td>\n",
       "      <td>medium</td>\n",
       "    </tr>\n",
       "  </tbody>\n",
       "</table>\n",
       "</div>"
      ]
     },
     "execution_count": 52,
     "metadata": {},
     "output_type": "execute_result"
    }
   ],
   "execution_count": 52
  },
  {
   "metadata": {
    "ExecuteTime": {
     "end_time": "2025-10-20T09:47:33.363683Z",
     "start_time": "2025-10-20T09:47:33.356564Z"
    }
   },
   "cell_type": "code",
   "source": "df3.isnull()",
   "id": "a6d1046d36d6303a",
   "outputs": [
    {
     "data": {
      "text/plain": [
       "   animals    age  weight  priority\n",
       "a    False  False   False     False\n",
       "b    False  False   False     False\n",
       "c    False  False   False     False\n",
       "d    False  False   False     False"
      ],
      "text/html": [
       "<div>\n",
       "<style scoped>\n",
       "    .dataframe tbody tr th:only-of-type {\n",
       "        vertical-align: middle;\n",
       "    }\n",
       "\n",
       "    .dataframe tbody tr th {\n",
       "        vertical-align: top;\n",
       "    }\n",
       "\n",
       "    .dataframe thead th {\n",
       "        text-align: right;\n",
       "    }\n",
       "</style>\n",
       "<table border=\"1\" class=\"dataframe\">\n",
       "  <thead>\n",
       "    <tr style=\"text-align: right;\">\n",
       "      <th></th>\n",
       "      <th>animals</th>\n",
       "      <th>age</th>\n",
       "      <th>weight</th>\n",
       "      <th>priority</th>\n",
       "    </tr>\n",
       "  </thead>\n",
       "  <tbody>\n",
       "    <tr>\n",
       "      <th>a</th>\n",
       "      <td>False</td>\n",
       "      <td>False</td>\n",
       "      <td>False</td>\n",
       "      <td>False</td>\n",
       "    </tr>\n",
       "    <tr>\n",
       "      <th>b</th>\n",
       "      <td>False</td>\n",
       "      <td>False</td>\n",
       "      <td>False</td>\n",
       "      <td>False</td>\n",
       "    </tr>\n",
       "    <tr>\n",
       "      <th>c</th>\n",
       "      <td>False</td>\n",
       "      <td>False</td>\n",
       "      <td>False</td>\n",
       "      <td>False</td>\n",
       "    </tr>\n",
       "    <tr>\n",
       "      <th>d</th>\n",
       "      <td>False</td>\n",
       "      <td>False</td>\n",
       "      <td>False</td>\n",
       "      <td>False</td>\n",
       "    </tr>\n",
       "  </tbody>\n",
       "</table>\n",
       "</div>"
      ]
     },
     "execution_count": 53,
     "metadata": {},
     "output_type": "execute_result"
    }
   ],
   "execution_count": 53
  },
  {
   "metadata": {
    "ExecuteTime": {
     "end_time": "2025-10-20T09:48:53.139271Z",
     "start_time": "2025-10-20T09:48:53.132816Z"
    }
   },
   "cell_type": "code",
   "source": [
    "df3.loc['e'] = [None, None, None, None]\n",
    "df3"
   ],
   "id": "36172026d9bdabae",
   "outputs": [
    {
     "data": {
      "text/plain": [
       "  animals   age  weight priority\n",
       "a     cat     2     4.5     high\n",
       "b     dog     5    20.2   medium\n",
       "c    bird     3     0.5      low\n",
       "d    fish     1     0.3   medium\n",
       "e    None  None     NaN     None"
      ],
      "text/html": [
       "<div>\n",
       "<style scoped>\n",
       "    .dataframe tbody tr th:only-of-type {\n",
       "        vertical-align: middle;\n",
       "    }\n",
       "\n",
       "    .dataframe tbody tr th {\n",
       "        vertical-align: top;\n",
       "    }\n",
       "\n",
       "    .dataframe thead th {\n",
       "        text-align: right;\n",
       "    }\n",
       "</style>\n",
       "<table border=\"1\" class=\"dataframe\">\n",
       "  <thead>\n",
       "    <tr style=\"text-align: right;\">\n",
       "      <th></th>\n",
       "      <th>animals</th>\n",
       "      <th>age</th>\n",
       "      <th>weight</th>\n",
       "      <th>priority</th>\n",
       "    </tr>\n",
       "  </thead>\n",
       "  <tbody>\n",
       "    <tr>\n",
       "      <th>a</th>\n",
       "      <td>cat</td>\n",
       "      <td>2</td>\n",
       "      <td>4.5</td>\n",
       "      <td>high</td>\n",
       "    </tr>\n",
       "    <tr>\n",
       "      <th>b</th>\n",
       "      <td>dog</td>\n",
       "      <td>5</td>\n",
       "      <td>20.2</td>\n",
       "      <td>medium</td>\n",
       "    </tr>\n",
       "    <tr>\n",
       "      <th>c</th>\n",
       "      <td>bird</td>\n",
       "      <td>3</td>\n",
       "      <td>0.5</td>\n",
       "      <td>low</td>\n",
       "    </tr>\n",
       "    <tr>\n",
       "      <th>d</th>\n",
       "      <td>fish</td>\n",
       "      <td>1</td>\n",
       "      <td>0.3</td>\n",
       "      <td>medium</td>\n",
       "    </tr>\n",
       "    <tr>\n",
       "      <th>e</th>\n",
       "      <td>None</td>\n",
       "      <td>None</td>\n",
       "      <td>NaN</td>\n",
       "      <td>None</td>\n",
       "    </tr>\n",
       "  </tbody>\n",
       "</table>\n",
       "</div>"
      ]
     },
     "execution_count": 56,
     "metadata": {},
     "output_type": "execute_result"
    }
   ],
   "execution_count": 56
  },
  {
   "metadata": {
    "ExecuteTime": {
     "end_time": "2025-10-20T09:49:37.756024Z",
     "start_time": "2025-10-20T09:49:37.746337Z"
    }
   },
   "cell_type": "code",
   "source": "df3[['age']].mean()",
   "id": "8cbd618b86f676a7",
   "outputs": [
    {
     "data": {
      "text/plain": [
       "age    2.75\n",
       "dtype: object"
      ]
     },
     "execution_count": 57,
     "metadata": {},
     "output_type": "execute_result"
    }
   ],
   "execution_count": 57
  },
  {
   "metadata": {
    "ExecuteTime": {
     "end_time": "2025-10-20T09:50:06.510993Z",
     "start_time": "2025-10-20T09:50:06.389251Z"
    }
   },
   "cell_type": "code",
   "source": "df3.mean()",
   "id": "fd854af2dfdfbc54",
   "outputs": [
    {
     "ename": "TypeError",
     "evalue": "can only concatenate str (not \"int\") to str",
     "output_type": "error",
     "traceback": [
      "\u001B[31m---------------------------------------------------------------------------\u001B[39m",
      "\u001B[31mTypeError\u001B[39m                                 Traceback (most recent call last)",
      "\u001B[36mCell\u001B[39m\u001B[36m \u001B[39m\u001B[32mIn[59]\u001B[39m\u001B[32m, line 1\u001B[39m\n\u001B[32m----> \u001B[39m\u001B[32m1\u001B[39m \u001B[43mdf3\u001B[49m\u001B[43m.\u001B[49m\u001B[43mmean\u001B[49m\u001B[43m(\u001B[49m\u001B[43m)\u001B[49m\n",
      "\u001B[36mFile \u001B[39m\u001B[32m~\\PyCharmMiscProject\\Learning Python\\.venv\\Lib\\site-packages\\pandas\\core\\frame.py:11720\u001B[39m, in \u001B[36mDataFrame.mean\u001B[39m\u001B[34m(self, axis, skipna, numeric_only, **kwargs)\u001B[39m\n\u001B[32m  11712\u001B[39m \u001B[38;5;129m@doc\u001B[39m(make_doc(\u001B[33m\"\u001B[39m\u001B[33mmean\u001B[39m\u001B[33m\"\u001B[39m, ndim=\u001B[32m2\u001B[39m))\n\u001B[32m  11713\u001B[39m \u001B[38;5;28;01mdef\u001B[39;00m\u001B[38;5;250m \u001B[39m\u001B[34mmean\u001B[39m(\n\u001B[32m  11714\u001B[39m     \u001B[38;5;28mself\u001B[39m,\n\u001B[32m   (...)\u001B[39m\u001B[32m  11718\u001B[39m     **kwargs,\n\u001B[32m  11719\u001B[39m ):\n\u001B[32m> \u001B[39m\u001B[32m11720\u001B[39m     result = \u001B[38;5;28;43msuper\u001B[39;49m\u001B[43m(\u001B[49m\u001B[43m)\u001B[49m\u001B[43m.\u001B[49m\u001B[43mmean\u001B[49m\u001B[43m(\u001B[49m\u001B[43maxis\u001B[49m\u001B[43m,\u001B[49m\u001B[43m \u001B[49m\u001B[43mskipna\u001B[49m\u001B[43m,\u001B[49m\u001B[43m \u001B[49m\u001B[43mnumeric_only\u001B[49m\u001B[43m,\u001B[49m\u001B[43m \u001B[49m\u001B[43m*\u001B[49m\u001B[43m*\u001B[49m\u001B[43mkwargs\u001B[49m\u001B[43m)\u001B[49m\n\u001B[32m  11721\u001B[39m     \u001B[38;5;28;01mif\u001B[39;00m \u001B[38;5;28misinstance\u001B[39m(result, Series):\n\u001B[32m  11722\u001B[39m         result = result.__finalize__(\u001B[38;5;28mself\u001B[39m, method=\u001B[33m\"\u001B[39m\u001B[33mmean\u001B[39m\u001B[33m\"\u001B[39m)\n",
      "\u001B[36mFile \u001B[39m\u001B[32m~\\PyCharmMiscProject\\Learning Python\\.venv\\Lib\\site-packages\\pandas\\core\\generic.py:12485\u001B[39m, in \u001B[36mNDFrame.mean\u001B[39m\u001B[34m(self, axis, skipna, numeric_only, **kwargs)\u001B[39m\n\u001B[32m  12478\u001B[39m \u001B[38;5;28;01mdef\u001B[39;00m\u001B[38;5;250m \u001B[39m\u001B[34mmean\u001B[39m(\n\u001B[32m  12479\u001B[39m     \u001B[38;5;28mself\u001B[39m,\n\u001B[32m  12480\u001B[39m     axis: Axis | \u001B[38;5;28;01mNone\u001B[39;00m = \u001B[32m0\u001B[39m,\n\u001B[32m   (...)\u001B[39m\u001B[32m  12483\u001B[39m     **kwargs,\n\u001B[32m  12484\u001B[39m ) -> Series | \u001B[38;5;28mfloat\u001B[39m:\n\u001B[32m> \u001B[39m\u001B[32m12485\u001B[39m     \u001B[38;5;28;01mreturn\u001B[39;00m \u001B[38;5;28;43mself\u001B[39;49m\u001B[43m.\u001B[49m\u001B[43m_stat_function\u001B[49m\u001B[43m(\u001B[49m\n\u001B[32m  12486\u001B[39m \u001B[43m        \u001B[49m\u001B[33;43m\"\u001B[39;49m\u001B[33;43mmean\u001B[39;49m\u001B[33;43m\"\u001B[39;49m\u001B[43m,\u001B[49m\u001B[43m \u001B[49m\u001B[43mnanops\u001B[49m\u001B[43m.\u001B[49m\u001B[43mnanmean\u001B[49m\u001B[43m,\u001B[49m\u001B[43m \u001B[49m\u001B[43maxis\u001B[49m\u001B[43m,\u001B[49m\u001B[43m \u001B[49m\u001B[43mskipna\u001B[49m\u001B[43m,\u001B[49m\u001B[43m \u001B[49m\u001B[43mnumeric_only\u001B[49m\u001B[43m,\u001B[49m\u001B[43m \u001B[49m\u001B[43m*\u001B[49m\u001B[43m*\u001B[49m\u001B[43mkwargs\u001B[49m\n\u001B[32m  12487\u001B[39m \u001B[43m    \u001B[49m\u001B[43m)\u001B[49m\n",
      "\u001B[36mFile \u001B[39m\u001B[32m~\\PyCharmMiscProject\\Learning Python\\.venv\\Lib\\site-packages\\pandas\\core\\generic.py:12442\u001B[39m, in \u001B[36mNDFrame._stat_function\u001B[39m\u001B[34m(self, name, func, axis, skipna, numeric_only, **kwargs)\u001B[39m\n\u001B[32m  12438\u001B[39m nv.validate_func(name, (), kwargs)\n\u001B[32m  12440\u001B[39m validate_bool_kwarg(skipna, \u001B[33m\"\u001B[39m\u001B[33mskipna\u001B[39m\u001B[33m\"\u001B[39m, none_allowed=\u001B[38;5;28;01mFalse\u001B[39;00m)\n\u001B[32m> \u001B[39m\u001B[32m12442\u001B[39m \u001B[38;5;28;01mreturn\u001B[39;00m \u001B[38;5;28;43mself\u001B[39;49m\u001B[43m.\u001B[49m\u001B[43m_reduce\u001B[49m\u001B[43m(\u001B[49m\n\u001B[32m  12443\u001B[39m \u001B[43m    \u001B[49m\u001B[43mfunc\u001B[49m\u001B[43m,\u001B[49m\u001B[43m \u001B[49m\u001B[43mname\u001B[49m\u001B[43m=\u001B[49m\u001B[43mname\u001B[49m\u001B[43m,\u001B[49m\u001B[43m \u001B[49m\u001B[43maxis\u001B[49m\u001B[43m=\u001B[49m\u001B[43maxis\u001B[49m\u001B[43m,\u001B[49m\u001B[43m \u001B[49m\u001B[43mskipna\u001B[49m\u001B[43m=\u001B[49m\u001B[43mskipna\u001B[49m\u001B[43m,\u001B[49m\u001B[43m \u001B[49m\u001B[43mnumeric_only\u001B[49m\u001B[43m=\u001B[49m\u001B[43mnumeric_only\u001B[49m\n\u001B[32m  12444\u001B[39m \u001B[43m\u001B[49m\u001B[43m)\u001B[49m\n",
      "\u001B[36mFile \u001B[39m\u001B[32m~\\PyCharmMiscProject\\Learning Python\\.venv\\Lib\\site-packages\\pandas\\core\\frame.py:11589\u001B[39m, in \u001B[36mDataFrame._reduce\u001B[39m\u001B[34m(self, op, name, axis, skipna, numeric_only, filter_type, **kwds)\u001B[39m\n\u001B[32m  11585\u001B[39m     df = df.T\n\u001B[32m  11587\u001B[39m \u001B[38;5;66;03m# After possibly _get_data and transposing, we are now in the\u001B[39;00m\n\u001B[32m  11588\u001B[39m \u001B[38;5;66;03m#  simple case where we can use BlockManager.reduce\u001B[39;00m\n\u001B[32m> \u001B[39m\u001B[32m11589\u001B[39m res = \u001B[43mdf\u001B[49m\u001B[43m.\u001B[49m\u001B[43m_mgr\u001B[49m\u001B[43m.\u001B[49m\u001B[43mreduce\u001B[49m\u001B[43m(\u001B[49m\u001B[43mblk_func\u001B[49m\u001B[43m)\u001B[49m\n\u001B[32m  11590\u001B[39m out = df._constructor_from_mgr(res, axes=res.axes).iloc[\u001B[32m0\u001B[39m]\n\u001B[32m  11591\u001B[39m \u001B[38;5;28;01mif\u001B[39;00m out_dtype \u001B[38;5;129;01mis\u001B[39;00m \u001B[38;5;129;01mnot\u001B[39;00m \u001B[38;5;28;01mNone\u001B[39;00m \u001B[38;5;129;01mand\u001B[39;00m out.dtype != \u001B[33m\"\u001B[39m\u001B[33mboolean\u001B[39m\u001B[33m\"\u001B[39m:\n",
      "\u001B[36mFile \u001B[39m\u001B[32m~\\PyCharmMiscProject\\Learning Python\\.venv\\Lib\\site-packages\\pandas\\core\\internals\\managers.py:1519\u001B[39m, in \u001B[36mBlockManager.reduce\u001B[39m\u001B[34m(self, func)\u001B[39m\n\u001B[32m   1517\u001B[39m res_blocks: \u001B[38;5;28mlist\u001B[39m[Block] = []\n\u001B[32m   1518\u001B[39m \u001B[38;5;28;01mfor\u001B[39;00m blk \u001B[38;5;129;01min\u001B[39;00m \u001B[38;5;28mself\u001B[39m.blocks:\n\u001B[32m-> \u001B[39m\u001B[32m1519\u001B[39m     nbs = \u001B[43mblk\u001B[49m\u001B[43m.\u001B[49m\u001B[43mreduce\u001B[49m\u001B[43m(\u001B[49m\u001B[43mfunc\u001B[49m\u001B[43m)\u001B[49m\n\u001B[32m   1520\u001B[39m     res_blocks.extend(nbs)\n\u001B[32m   1522\u001B[39m index = Index([\u001B[38;5;28;01mNone\u001B[39;00m])  \u001B[38;5;66;03m# placeholder\u001B[39;00m\n",
      "\u001B[36mFile \u001B[39m\u001B[32m~\\PyCharmMiscProject\\Learning Python\\.venv\\Lib\\site-packages\\pandas\\core\\internals\\blocks.py:406\u001B[39m, in \u001B[36mBlock.reduce\u001B[39m\u001B[34m(self, func)\u001B[39m\n\u001B[32m    400\u001B[39m \u001B[38;5;129m@final\u001B[39m\n\u001B[32m    401\u001B[39m \u001B[38;5;28;01mdef\u001B[39;00m\u001B[38;5;250m \u001B[39m\u001B[34mreduce\u001B[39m(\u001B[38;5;28mself\u001B[39m, func) -> \u001B[38;5;28mlist\u001B[39m[Block]:\n\u001B[32m    402\u001B[39m     \u001B[38;5;66;03m# We will apply the function and reshape the result into a single-row\u001B[39;00m\n\u001B[32m    403\u001B[39m     \u001B[38;5;66;03m#  Block with the same mgr_locs; squeezing will be done at a higher level\u001B[39;00m\n\u001B[32m    404\u001B[39m     \u001B[38;5;28;01massert\u001B[39;00m \u001B[38;5;28mself\u001B[39m.ndim == \u001B[32m2\u001B[39m\n\u001B[32m--> \u001B[39m\u001B[32m406\u001B[39m     result = \u001B[43mfunc\u001B[49m\u001B[43m(\u001B[49m\u001B[38;5;28;43mself\u001B[39;49m\u001B[43m.\u001B[49m\u001B[43mvalues\u001B[49m\u001B[43m)\u001B[49m\n\u001B[32m    408\u001B[39m     \u001B[38;5;28;01mif\u001B[39;00m \u001B[38;5;28mself\u001B[39m.values.ndim == \u001B[32m1\u001B[39m:\n\u001B[32m    409\u001B[39m         res_values = result\n",
      "\u001B[36mFile \u001B[39m\u001B[32m~\\PyCharmMiscProject\\Learning Python\\.venv\\Lib\\site-packages\\pandas\\core\\frame.py:11508\u001B[39m, in \u001B[36mDataFrame._reduce.<locals>.blk_func\u001B[39m\u001B[34m(values, axis)\u001B[39m\n\u001B[32m  11506\u001B[39m         \u001B[38;5;28;01mreturn\u001B[39;00m np.array([result])\n\u001B[32m  11507\u001B[39m \u001B[38;5;28;01melse\u001B[39;00m:\n\u001B[32m> \u001B[39m\u001B[32m11508\u001B[39m     \u001B[38;5;28;01mreturn\u001B[39;00m \u001B[43mop\u001B[49m\u001B[43m(\u001B[49m\u001B[43mvalues\u001B[49m\u001B[43m,\u001B[49m\u001B[43m \u001B[49m\u001B[43maxis\u001B[49m\u001B[43m=\u001B[49m\u001B[43maxis\u001B[49m\u001B[43m,\u001B[49m\u001B[43m \u001B[49m\u001B[43mskipna\u001B[49m\u001B[43m=\u001B[49m\u001B[43mskipna\u001B[49m\u001B[43m,\u001B[49m\u001B[43m \u001B[49m\u001B[43m*\u001B[49m\u001B[43m*\u001B[49m\u001B[43mkwds\u001B[49m\u001B[43m)\u001B[49m\n",
      "\u001B[36mFile \u001B[39m\u001B[32m~\\PyCharmMiscProject\\Learning Python\\.venv\\Lib\\site-packages\\pandas\\core\\nanops.py:147\u001B[39m, in \u001B[36mbottleneck_switch.__call__.<locals>.f\u001B[39m\u001B[34m(values, axis, skipna, **kwds)\u001B[39m\n\u001B[32m    145\u001B[39m         result = alt(values, axis=axis, skipna=skipna, **kwds)\n\u001B[32m    146\u001B[39m \u001B[38;5;28;01melse\u001B[39;00m:\n\u001B[32m--> \u001B[39m\u001B[32m147\u001B[39m     result = \u001B[43malt\u001B[49m\u001B[43m(\u001B[49m\u001B[43mvalues\u001B[49m\u001B[43m,\u001B[49m\u001B[43m \u001B[49m\u001B[43maxis\u001B[49m\u001B[43m=\u001B[49m\u001B[43maxis\u001B[49m\u001B[43m,\u001B[49m\u001B[43m \u001B[49m\u001B[43mskipna\u001B[49m\u001B[43m=\u001B[49m\u001B[43mskipna\u001B[49m\u001B[43m,\u001B[49m\u001B[43m \u001B[49m\u001B[43m*\u001B[49m\u001B[43m*\u001B[49m\u001B[43mkwds\u001B[49m\u001B[43m)\u001B[49m\n\u001B[32m    149\u001B[39m \u001B[38;5;28;01mreturn\u001B[39;00m result\n",
      "\u001B[36mFile \u001B[39m\u001B[32m~\\PyCharmMiscProject\\Learning Python\\.venv\\Lib\\site-packages\\pandas\\core\\nanops.py:404\u001B[39m, in \u001B[36m_datetimelike_compat.<locals>.new_func\u001B[39m\u001B[34m(values, axis, skipna, mask, **kwargs)\u001B[39m\n\u001B[32m    401\u001B[39m \u001B[38;5;28;01mif\u001B[39;00m datetimelike \u001B[38;5;129;01mand\u001B[39;00m mask \u001B[38;5;129;01mis\u001B[39;00m \u001B[38;5;28;01mNone\u001B[39;00m:\n\u001B[32m    402\u001B[39m     mask = isna(values)\n\u001B[32m--> \u001B[39m\u001B[32m404\u001B[39m result = \u001B[43mfunc\u001B[49m\u001B[43m(\u001B[49m\u001B[43mvalues\u001B[49m\u001B[43m,\u001B[49m\u001B[43m \u001B[49m\u001B[43maxis\u001B[49m\u001B[43m=\u001B[49m\u001B[43maxis\u001B[49m\u001B[43m,\u001B[49m\u001B[43m \u001B[49m\u001B[43mskipna\u001B[49m\u001B[43m=\u001B[49m\u001B[43mskipna\u001B[49m\u001B[43m,\u001B[49m\u001B[43m \u001B[49m\u001B[43mmask\u001B[49m\u001B[43m=\u001B[49m\u001B[43mmask\u001B[49m\u001B[43m,\u001B[49m\u001B[43m \u001B[49m\u001B[43m*\u001B[49m\u001B[43m*\u001B[49m\u001B[43mkwargs\u001B[49m\u001B[43m)\u001B[49m\n\u001B[32m    406\u001B[39m \u001B[38;5;28;01mif\u001B[39;00m datetimelike:\n\u001B[32m    407\u001B[39m     result = _wrap_results(result, orig_values.dtype, fill_value=iNaT)\n",
      "\u001B[36mFile \u001B[39m\u001B[32m~\\PyCharmMiscProject\\Learning Python\\.venv\\Lib\\site-packages\\pandas\\core\\nanops.py:719\u001B[39m, in \u001B[36mnanmean\u001B[39m\u001B[34m(values, axis, skipna, mask)\u001B[39m\n\u001B[32m    716\u001B[39m     dtype_count = dtype\n\u001B[32m    718\u001B[39m count = _get_counts(values.shape, mask, axis, dtype=dtype_count)\n\u001B[32m--> \u001B[39m\u001B[32m719\u001B[39m the_sum = \u001B[43mvalues\u001B[49m\u001B[43m.\u001B[49m\u001B[43msum\u001B[49m\u001B[43m(\u001B[49m\u001B[43maxis\u001B[49m\u001B[43m,\u001B[49m\u001B[43m \u001B[49m\u001B[43mdtype\u001B[49m\u001B[43m=\u001B[49m\u001B[43mdtype_sum\u001B[49m\u001B[43m)\u001B[49m\n\u001B[32m    720\u001B[39m the_sum = _ensure_numeric(the_sum)\n\u001B[32m    722\u001B[39m \u001B[38;5;28;01mif\u001B[39;00m axis \u001B[38;5;129;01mis\u001B[39;00m \u001B[38;5;129;01mnot\u001B[39;00m \u001B[38;5;28;01mNone\u001B[39;00m \u001B[38;5;129;01mand\u001B[39;00m \u001B[38;5;28mgetattr\u001B[39m(the_sum, \u001B[33m\"\u001B[39m\u001B[33mndim\u001B[39m\u001B[33m\"\u001B[39m, \u001B[38;5;28;01mFalse\u001B[39;00m):\n",
      "\u001B[36mFile \u001B[39m\u001B[32m~\\PyCharmMiscProject\\Learning Python\\.venv\\Lib\\site-packages\\numpy\\_core\\_methods.py:51\u001B[39m, in \u001B[36m_sum\u001B[39m\u001B[34m(a, axis, dtype, out, keepdims, initial, where)\u001B[39m\n\u001B[32m     49\u001B[39m \u001B[38;5;28;01mdef\u001B[39;00m\u001B[38;5;250m \u001B[39m\u001B[34m_sum\u001B[39m(a, axis=\u001B[38;5;28;01mNone\u001B[39;00m, dtype=\u001B[38;5;28;01mNone\u001B[39;00m, out=\u001B[38;5;28;01mNone\u001B[39;00m, keepdims=\u001B[38;5;28;01mFalse\u001B[39;00m,\n\u001B[32m     50\u001B[39m          initial=_NoValue, where=\u001B[38;5;28;01mTrue\u001B[39;00m):\n\u001B[32m---> \u001B[39m\u001B[32m51\u001B[39m     \u001B[38;5;28;01mreturn\u001B[39;00m \u001B[43mumr_sum\u001B[49m\u001B[43m(\u001B[49m\u001B[43ma\u001B[49m\u001B[43m,\u001B[49m\u001B[43m \u001B[49m\u001B[43maxis\u001B[49m\u001B[43m,\u001B[49m\u001B[43m \u001B[49m\u001B[43mdtype\u001B[49m\u001B[43m,\u001B[49m\u001B[43m \u001B[49m\u001B[43mout\u001B[49m\u001B[43m,\u001B[49m\u001B[43m \u001B[49m\u001B[43mkeepdims\u001B[49m\u001B[43m,\u001B[49m\u001B[43m \u001B[49m\u001B[43minitial\u001B[49m\u001B[43m,\u001B[49m\u001B[43m \u001B[49m\u001B[43mwhere\u001B[49m\u001B[43m)\u001B[49m\n",
      "\u001B[31mTypeError\u001B[39m: can only concatenate str (not \"int\") to str"
     ]
    }
   ],
   "execution_count": 59
  },
  {
   "metadata": {
    "ExecuteTime": {
     "end_time": "2025-10-20T09:50:17.404592Z",
     "start_time": "2025-10-20T09:50:17.395917Z"
    }
   },
   "cell_type": "code",
   "source": "df3",
   "id": "ffe338ea8edac179",
   "outputs": [
    {
     "data": {
      "text/plain": [
       "  animals   age  weight priority\n",
       "a     cat     2     4.5     high\n",
       "b     dog     5    20.2   medium\n",
       "c    bird     3     0.5      low\n",
       "d    fish     1     0.3   medium\n",
       "e    None  None     NaN     None"
      ],
      "text/html": [
       "<div>\n",
       "<style scoped>\n",
       "    .dataframe tbody tr th:only-of-type {\n",
       "        vertical-align: middle;\n",
       "    }\n",
       "\n",
       "    .dataframe tbody tr th {\n",
       "        vertical-align: top;\n",
       "    }\n",
       "\n",
       "    .dataframe thead th {\n",
       "        text-align: right;\n",
       "    }\n",
       "</style>\n",
       "<table border=\"1\" class=\"dataframe\">\n",
       "  <thead>\n",
       "    <tr style=\"text-align: right;\">\n",
       "      <th></th>\n",
       "      <th>animals</th>\n",
       "      <th>age</th>\n",
       "      <th>weight</th>\n",
       "      <th>priority</th>\n",
       "    </tr>\n",
       "  </thead>\n",
       "  <tbody>\n",
       "    <tr>\n",
       "      <th>a</th>\n",
       "      <td>cat</td>\n",
       "      <td>2</td>\n",
       "      <td>4.5</td>\n",
       "      <td>high</td>\n",
       "    </tr>\n",
       "    <tr>\n",
       "      <th>b</th>\n",
       "      <td>dog</td>\n",
       "      <td>5</td>\n",
       "      <td>20.2</td>\n",
       "      <td>medium</td>\n",
       "    </tr>\n",
       "    <tr>\n",
       "      <th>c</th>\n",
       "      <td>bird</td>\n",
       "      <td>3</td>\n",
       "      <td>0.5</td>\n",
       "      <td>low</td>\n",
       "    </tr>\n",
       "    <tr>\n",
       "      <th>d</th>\n",
       "      <td>fish</td>\n",
       "      <td>1</td>\n",
       "      <td>0.3</td>\n",
       "      <td>medium</td>\n",
       "    </tr>\n",
       "    <tr>\n",
       "      <th>e</th>\n",
       "      <td>None</td>\n",
       "      <td>None</td>\n",
       "      <td>NaN</td>\n",
       "      <td>None</td>\n",
       "    </tr>\n",
       "  </tbody>\n",
       "</table>\n",
       "</div>"
      ]
     },
     "execution_count": 60,
     "metadata": {},
     "output_type": "execute_result"
    }
   ],
   "execution_count": 60
  },
  {
   "metadata": {
    "ExecuteTime": {
     "end_time": "2025-10-20T09:50:41.276401Z",
     "start_time": "2025-10-20T09:50:41.270824Z"
    }
   },
   "cell_type": "code",
   "source": "df3['weight'].sum()",
   "id": "5e564e7cae736f7c",
   "outputs": [
    {
     "data": {
      "text/plain": [
       "np.float64(25.5)"
      ]
     },
     "execution_count": 61,
     "metadata": {},
     "output_type": "execute_result"
    }
   ],
   "execution_count": 61
  },
  {
   "metadata": {
    "ExecuteTime": {
     "end_time": "2025-10-20T09:50:50.860818Z",
     "start_time": "2025-10-20T09:50:50.696990Z"
    }
   },
   "cell_type": "code",
   "source": "df3.sum()",
   "id": "b40c232d6f24f7e8",
   "outputs": [
    {
     "ename": "TypeError",
     "evalue": "can only concatenate str (not \"int\") to str",
     "output_type": "error",
     "traceback": [
      "\u001B[31m---------------------------------------------------------------------------\u001B[39m",
      "\u001B[31mTypeError\u001B[39m                                 Traceback (most recent call last)",
      "\u001B[36mCell\u001B[39m\u001B[36m \u001B[39m\u001B[32mIn[62]\u001B[39m\u001B[32m, line 1\u001B[39m\n\u001B[32m----> \u001B[39m\u001B[32m1\u001B[39m \u001B[43mdf3\u001B[49m\u001B[43m.\u001B[49m\u001B[43msum\u001B[49m\u001B[43m(\u001B[49m\u001B[43m)\u001B[49m\n",
      "\u001B[36mFile \u001B[39m\u001B[32m~\\PyCharmMiscProject\\Learning Python\\.venv\\Lib\\site-packages\\pandas\\core\\frame.py:11697\u001B[39m, in \u001B[36mDataFrame.sum\u001B[39m\u001B[34m(self, axis, skipna, numeric_only, min_count, **kwargs)\u001B[39m\n\u001B[32m  11688\u001B[39m \u001B[38;5;129m@doc\u001B[39m(make_doc(\u001B[33m\"\u001B[39m\u001B[33msum\u001B[39m\u001B[33m\"\u001B[39m, ndim=\u001B[32m2\u001B[39m))\n\u001B[32m  11689\u001B[39m \u001B[38;5;28;01mdef\u001B[39;00m\u001B[38;5;250m \u001B[39m\u001B[34msum\u001B[39m(\n\u001B[32m  11690\u001B[39m     \u001B[38;5;28mself\u001B[39m,\n\u001B[32m   (...)\u001B[39m\u001B[32m  11695\u001B[39m     **kwargs,\n\u001B[32m  11696\u001B[39m ):\n\u001B[32m> \u001B[39m\u001B[32m11697\u001B[39m     result = \u001B[38;5;28;43msuper\u001B[39;49m\u001B[43m(\u001B[49m\u001B[43m)\u001B[49m\u001B[43m.\u001B[49m\u001B[43msum\u001B[49m\u001B[43m(\u001B[49m\u001B[43maxis\u001B[49m\u001B[43m,\u001B[49m\u001B[43m \u001B[49m\u001B[43mskipna\u001B[49m\u001B[43m,\u001B[49m\u001B[43m \u001B[49m\u001B[43mnumeric_only\u001B[49m\u001B[43m,\u001B[49m\u001B[43m \u001B[49m\u001B[43mmin_count\u001B[49m\u001B[43m,\u001B[49m\u001B[43m \u001B[49m\u001B[43m*\u001B[49m\u001B[43m*\u001B[49m\u001B[43mkwargs\u001B[49m\u001B[43m)\u001B[49m\n\u001B[32m  11698\u001B[39m     \u001B[38;5;28;01mreturn\u001B[39;00m result.__finalize__(\u001B[38;5;28mself\u001B[39m, method=\u001B[33m\"\u001B[39m\u001B[33msum\u001B[39m\u001B[33m\"\u001B[39m)\n",
      "\u001B[36mFile \u001B[39m\u001B[32m~\\PyCharmMiscProject\\Learning Python\\.venv\\Lib\\site-packages\\pandas\\core\\generic.py:12571\u001B[39m, in \u001B[36mNDFrame.sum\u001B[39m\u001B[34m(self, axis, skipna, numeric_only, min_count, **kwargs)\u001B[39m\n\u001B[32m  12563\u001B[39m \u001B[38;5;28;01mdef\u001B[39;00m\u001B[38;5;250m \u001B[39m\u001B[34msum\u001B[39m(\n\u001B[32m  12564\u001B[39m     \u001B[38;5;28mself\u001B[39m,\n\u001B[32m  12565\u001B[39m     axis: Axis | \u001B[38;5;28;01mNone\u001B[39;00m = \u001B[32m0\u001B[39m,\n\u001B[32m   (...)\u001B[39m\u001B[32m  12569\u001B[39m     **kwargs,\n\u001B[32m  12570\u001B[39m ):\n\u001B[32m> \u001B[39m\u001B[32m12571\u001B[39m     \u001B[38;5;28;01mreturn\u001B[39;00m \u001B[38;5;28;43mself\u001B[39;49m\u001B[43m.\u001B[49m\u001B[43m_min_count_stat_function\u001B[49m\u001B[43m(\u001B[49m\n\u001B[32m  12572\u001B[39m \u001B[43m        \u001B[49m\u001B[33;43m\"\u001B[39;49m\u001B[33;43msum\u001B[39;49m\u001B[33;43m\"\u001B[39;49m\u001B[43m,\u001B[49m\u001B[43m \u001B[49m\u001B[43mnanops\u001B[49m\u001B[43m.\u001B[49m\u001B[43mnansum\u001B[49m\u001B[43m,\u001B[49m\u001B[43m \u001B[49m\u001B[43maxis\u001B[49m\u001B[43m,\u001B[49m\u001B[43m \u001B[49m\u001B[43mskipna\u001B[49m\u001B[43m,\u001B[49m\u001B[43m \u001B[49m\u001B[43mnumeric_only\u001B[49m\u001B[43m,\u001B[49m\u001B[43m \u001B[49m\u001B[43mmin_count\u001B[49m\u001B[43m,\u001B[49m\u001B[43m \u001B[49m\u001B[43m*\u001B[49m\u001B[43m*\u001B[49m\u001B[43mkwargs\u001B[49m\n\u001B[32m  12573\u001B[39m \u001B[43m    \u001B[49m\u001B[43m)\u001B[49m\n",
      "\u001B[36mFile \u001B[39m\u001B[32m~\\PyCharmMiscProject\\Learning Python\\.venv\\Lib\\site-packages\\pandas\\core\\generic.py:12554\u001B[39m, in \u001B[36mNDFrame._min_count_stat_function\u001B[39m\u001B[34m(self, name, func, axis, skipna, numeric_only, min_count, **kwargs)\u001B[39m\n\u001B[32m  12551\u001B[39m \u001B[38;5;28;01melif\u001B[39;00m axis \u001B[38;5;129;01mis\u001B[39;00m lib.no_default:\n\u001B[32m  12552\u001B[39m     axis = \u001B[32m0\u001B[39m\n\u001B[32m> \u001B[39m\u001B[32m12554\u001B[39m \u001B[38;5;28;01mreturn\u001B[39;00m \u001B[38;5;28;43mself\u001B[39;49m\u001B[43m.\u001B[49m\u001B[43m_reduce\u001B[49m\u001B[43m(\u001B[49m\n\u001B[32m  12555\u001B[39m \u001B[43m    \u001B[49m\u001B[43mfunc\u001B[49m\u001B[43m,\u001B[49m\n\u001B[32m  12556\u001B[39m \u001B[43m    \u001B[49m\u001B[43mname\u001B[49m\u001B[43m=\u001B[49m\u001B[43mname\u001B[49m\u001B[43m,\u001B[49m\n\u001B[32m  12557\u001B[39m \u001B[43m    \u001B[49m\u001B[43maxis\u001B[49m\u001B[43m=\u001B[49m\u001B[43maxis\u001B[49m\u001B[43m,\u001B[49m\n\u001B[32m  12558\u001B[39m \u001B[43m    \u001B[49m\u001B[43mskipna\u001B[49m\u001B[43m=\u001B[49m\u001B[43mskipna\u001B[49m\u001B[43m,\u001B[49m\n\u001B[32m  12559\u001B[39m \u001B[43m    \u001B[49m\u001B[43mnumeric_only\u001B[49m\u001B[43m=\u001B[49m\u001B[43mnumeric_only\u001B[49m\u001B[43m,\u001B[49m\n\u001B[32m  12560\u001B[39m \u001B[43m    \u001B[49m\u001B[43mmin_count\u001B[49m\u001B[43m=\u001B[49m\u001B[43mmin_count\u001B[49m\u001B[43m,\u001B[49m\n\u001B[32m  12561\u001B[39m \u001B[43m\u001B[49m\u001B[43m)\u001B[49m\n",
      "\u001B[36mFile \u001B[39m\u001B[32m~\\PyCharmMiscProject\\Learning Python\\.venv\\Lib\\site-packages\\pandas\\core\\frame.py:11589\u001B[39m, in \u001B[36mDataFrame._reduce\u001B[39m\u001B[34m(self, op, name, axis, skipna, numeric_only, filter_type, **kwds)\u001B[39m\n\u001B[32m  11585\u001B[39m     df = df.T\n\u001B[32m  11587\u001B[39m \u001B[38;5;66;03m# After possibly _get_data and transposing, we are now in the\u001B[39;00m\n\u001B[32m  11588\u001B[39m \u001B[38;5;66;03m#  simple case where we can use BlockManager.reduce\u001B[39;00m\n\u001B[32m> \u001B[39m\u001B[32m11589\u001B[39m res = \u001B[43mdf\u001B[49m\u001B[43m.\u001B[49m\u001B[43m_mgr\u001B[49m\u001B[43m.\u001B[49m\u001B[43mreduce\u001B[49m\u001B[43m(\u001B[49m\u001B[43mblk_func\u001B[49m\u001B[43m)\u001B[49m\n\u001B[32m  11590\u001B[39m out = df._constructor_from_mgr(res, axes=res.axes).iloc[\u001B[32m0\u001B[39m]\n\u001B[32m  11591\u001B[39m \u001B[38;5;28;01mif\u001B[39;00m out_dtype \u001B[38;5;129;01mis\u001B[39;00m \u001B[38;5;129;01mnot\u001B[39;00m \u001B[38;5;28;01mNone\u001B[39;00m \u001B[38;5;129;01mand\u001B[39;00m out.dtype != \u001B[33m\"\u001B[39m\u001B[33mboolean\u001B[39m\u001B[33m\"\u001B[39m:\n",
      "\u001B[36mFile \u001B[39m\u001B[32m~\\PyCharmMiscProject\\Learning Python\\.venv\\Lib\\site-packages\\pandas\\core\\internals\\managers.py:1519\u001B[39m, in \u001B[36mBlockManager.reduce\u001B[39m\u001B[34m(self, func)\u001B[39m\n\u001B[32m   1517\u001B[39m res_blocks: \u001B[38;5;28mlist\u001B[39m[Block] = []\n\u001B[32m   1518\u001B[39m \u001B[38;5;28;01mfor\u001B[39;00m blk \u001B[38;5;129;01min\u001B[39;00m \u001B[38;5;28mself\u001B[39m.blocks:\n\u001B[32m-> \u001B[39m\u001B[32m1519\u001B[39m     nbs = \u001B[43mblk\u001B[49m\u001B[43m.\u001B[49m\u001B[43mreduce\u001B[49m\u001B[43m(\u001B[49m\u001B[43mfunc\u001B[49m\u001B[43m)\u001B[49m\n\u001B[32m   1520\u001B[39m     res_blocks.extend(nbs)\n\u001B[32m   1522\u001B[39m index = Index([\u001B[38;5;28;01mNone\u001B[39;00m])  \u001B[38;5;66;03m# placeholder\u001B[39;00m\n",
      "\u001B[36mFile \u001B[39m\u001B[32m~\\PyCharmMiscProject\\Learning Python\\.venv\\Lib\\site-packages\\pandas\\core\\internals\\blocks.py:406\u001B[39m, in \u001B[36mBlock.reduce\u001B[39m\u001B[34m(self, func)\u001B[39m\n\u001B[32m    400\u001B[39m \u001B[38;5;129m@final\u001B[39m\n\u001B[32m    401\u001B[39m \u001B[38;5;28;01mdef\u001B[39;00m\u001B[38;5;250m \u001B[39m\u001B[34mreduce\u001B[39m(\u001B[38;5;28mself\u001B[39m, func) -> \u001B[38;5;28mlist\u001B[39m[Block]:\n\u001B[32m    402\u001B[39m     \u001B[38;5;66;03m# We will apply the function and reshape the result into a single-row\u001B[39;00m\n\u001B[32m    403\u001B[39m     \u001B[38;5;66;03m#  Block with the same mgr_locs; squeezing will be done at a higher level\u001B[39;00m\n\u001B[32m    404\u001B[39m     \u001B[38;5;28;01massert\u001B[39;00m \u001B[38;5;28mself\u001B[39m.ndim == \u001B[32m2\u001B[39m\n\u001B[32m--> \u001B[39m\u001B[32m406\u001B[39m     result = \u001B[43mfunc\u001B[49m\u001B[43m(\u001B[49m\u001B[38;5;28;43mself\u001B[39;49m\u001B[43m.\u001B[49m\u001B[43mvalues\u001B[49m\u001B[43m)\u001B[49m\n\u001B[32m    408\u001B[39m     \u001B[38;5;28;01mif\u001B[39;00m \u001B[38;5;28mself\u001B[39m.values.ndim == \u001B[32m1\u001B[39m:\n\u001B[32m    409\u001B[39m         res_values = result\n",
      "\u001B[36mFile \u001B[39m\u001B[32m~\\PyCharmMiscProject\\Learning Python\\.venv\\Lib\\site-packages\\pandas\\core\\frame.py:11508\u001B[39m, in \u001B[36mDataFrame._reduce.<locals>.blk_func\u001B[39m\u001B[34m(values, axis)\u001B[39m\n\u001B[32m  11506\u001B[39m         \u001B[38;5;28;01mreturn\u001B[39;00m np.array([result])\n\u001B[32m  11507\u001B[39m \u001B[38;5;28;01melse\u001B[39;00m:\n\u001B[32m> \u001B[39m\u001B[32m11508\u001B[39m     \u001B[38;5;28;01mreturn\u001B[39;00m \u001B[43mop\u001B[49m\u001B[43m(\u001B[49m\u001B[43mvalues\u001B[49m\u001B[43m,\u001B[49m\u001B[43m \u001B[49m\u001B[43maxis\u001B[49m\u001B[43m=\u001B[49m\u001B[43maxis\u001B[49m\u001B[43m,\u001B[49m\u001B[43m \u001B[49m\u001B[43mskipna\u001B[49m\u001B[43m=\u001B[49m\u001B[43mskipna\u001B[49m\u001B[43m,\u001B[49m\u001B[43m \u001B[49m\u001B[43m*\u001B[49m\u001B[43m*\u001B[49m\u001B[43mkwds\u001B[49m\u001B[43m)\u001B[49m\n",
      "\u001B[36mFile \u001B[39m\u001B[32m~\\PyCharmMiscProject\\Learning Python\\.venv\\Lib\\site-packages\\pandas\\core\\nanops.py:85\u001B[39m, in \u001B[36mdisallow.__call__.<locals>._f\u001B[39m\u001B[34m(*args, **kwargs)\u001B[39m\n\u001B[32m     81\u001B[39m     \u001B[38;5;28;01mraise\u001B[39;00m \u001B[38;5;167;01mTypeError\u001B[39;00m(\n\u001B[32m     82\u001B[39m         \u001B[33mf\u001B[39m\u001B[33m\"\u001B[39m\u001B[33mreduction operation \u001B[39m\u001B[33m'\u001B[39m\u001B[38;5;132;01m{\u001B[39;00mf_name\u001B[38;5;132;01m}\u001B[39;00m\u001B[33m'\u001B[39m\u001B[33m not allowed for this dtype\u001B[39m\u001B[33m\"\u001B[39m\n\u001B[32m     83\u001B[39m     )\n\u001B[32m     84\u001B[39m \u001B[38;5;28;01mtry\u001B[39;00m:\n\u001B[32m---> \u001B[39m\u001B[32m85\u001B[39m     \u001B[38;5;28;01mreturn\u001B[39;00m \u001B[43mf\u001B[49m\u001B[43m(\u001B[49m\u001B[43m*\u001B[49m\u001B[43margs\u001B[49m\u001B[43m,\u001B[49m\u001B[43m \u001B[49m\u001B[43m*\u001B[49m\u001B[43m*\u001B[49m\u001B[43mkwargs\u001B[49m\u001B[43m)\u001B[49m\n\u001B[32m     86\u001B[39m \u001B[38;5;28;01mexcept\u001B[39;00m \u001B[38;5;167;01mValueError\u001B[39;00m \u001B[38;5;28;01mas\u001B[39;00m e:\n\u001B[32m     87\u001B[39m     \u001B[38;5;66;03m# we want to transform an object array\u001B[39;00m\n\u001B[32m     88\u001B[39m     \u001B[38;5;66;03m# ValueError message to the more typical TypeError\u001B[39;00m\n\u001B[32m     89\u001B[39m     \u001B[38;5;66;03m# e.g. this is normally a disallowed function on\u001B[39;00m\n\u001B[32m     90\u001B[39m     \u001B[38;5;66;03m# object arrays that contain strings\u001B[39;00m\n\u001B[32m     91\u001B[39m     \u001B[38;5;28;01mif\u001B[39;00m is_object_dtype(args[\u001B[32m0\u001B[39m]):\n",
      "\u001B[36mFile \u001B[39m\u001B[32m~\\PyCharmMiscProject\\Learning Python\\.venv\\Lib\\site-packages\\pandas\\core\\nanops.py:404\u001B[39m, in \u001B[36m_datetimelike_compat.<locals>.new_func\u001B[39m\u001B[34m(values, axis, skipna, mask, **kwargs)\u001B[39m\n\u001B[32m    401\u001B[39m \u001B[38;5;28;01mif\u001B[39;00m datetimelike \u001B[38;5;129;01mand\u001B[39;00m mask \u001B[38;5;129;01mis\u001B[39;00m \u001B[38;5;28;01mNone\u001B[39;00m:\n\u001B[32m    402\u001B[39m     mask = isna(values)\n\u001B[32m--> \u001B[39m\u001B[32m404\u001B[39m result = \u001B[43mfunc\u001B[49m\u001B[43m(\u001B[49m\u001B[43mvalues\u001B[49m\u001B[43m,\u001B[49m\u001B[43m \u001B[49m\u001B[43maxis\u001B[49m\u001B[43m=\u001B[49m\u001B[43maxis\u001B[49m\u001B[43m,\u001B[49m\u001B[43m \u001B[49m\u001B[43mskipna\u001B[49m\u001B[43m=\u001B[49m\u001B[43mskipna\u001B[49m\u001B[43m,\u001B[49m\u001B[43m \u001B[49m\u001B[43mmask\u001B[49m\u001B[43m=\u001B[49m\u001B[43mmask\u001B[49m\u001B[43m,\u001B[49m\u001B[43m \u001B[49m\u001B[43m*\u001B[49m\u001B[43m*\u001B[49m\u001B[43mkwargs\u001B[49m\u001B[43m)\u001B[49m\n\u001B[32m    406\u001B[39m \u001B[38;5;28;01mif\u001B[39;00m datetimelike:\n\u001B[32m    407\u001B[39m     result = _wrap_results(result, orig_values.dtype, fill_value=iNaT)\n",
      "\u001B[36mFile \u001B[39m\u001B[32m~\\PyCharmMiscProject\\Learning Python\\.venv\\Lib\\site-packages\\pandas\\core\\nanops.py:477\u001B[39m, in \u001B[36mmaybe_operate_rowwise.<locals>.newfunc\u001B[39m\u001B[34m(values, axis, **kwargs)\u001B[39m\n\u001B[32m    474\u001B[39m         results = [func(x, **kwargs) \u001B[38;5;28;01mfor\u001B[39;00m x \u001B[38;5;129;01min\u001B[39;00m arrs]\n\u001B[32m    475\u001B[39m     \u001B[38;5;28;01mreturn\u001B[39;00m np.array(results)\n\u001B[32m--> \u001B[39m\u001B[32m477\u001B[39m \u001B[38;5;28;01mreturn\u001B[39;00m \u001B[43mfunc\u001B[49m\u001B[43m(\u001B[49m\u001B[43mvalues\u001B[49m\u001B[43m,\u001B[49m\u001B[43m \u001B[49m\u001B[43maxis\u001B[49m\u001B[43m=\u001B[49m\u001B[43maxis\u001B[49m\u001B[43m,\u001B[49m\u001B[43m \u001B[49m\u001B[43m*\u001B[49m\u001B[43m*\u001B[49m\u001B[43mkwargs\u001B[49m\u001B[43m)\u001B[49m\n",
      "\u001B[36mFile \u001B[39m\u001B[32m~\\PyCharmMiscProject\\Learning Python\\.venv\\Lib\\site-packages\\pandas\\core\\nanops.py:646\u001B[39m, in \u001B[36mnansum\u001B[39m\u001B[34m(values, axis, skipna, min_count, mask)\u001B[39m\n\u001B[32m    643\u001B[39m \u001B[38;5;28;01melif\u001B[39;00m dtype.kind == \u001B[33m\"\u001B[39m\u001B[33mm\u001B[39m\u001B[33m\"\u001B[39m:\n\u001B[32m    644\u001B[39m     dtype_sum = np.dtype(np.float64)\n\u001B[32m--> \u001B[39m\u001B[32m646\u001B[39m the_sum = \u001B[43mvalues\u001B[49m\u001B[43m.\u001B[49m\u001B[43msum\u001B[49m\u001B[43m(\u001B[49m\u001B[43maxis\u001B[49m\u001B[43m,\u001B[49m\u001B[43m \u001B[49m\u001B[43mdtype\u001B[49m\u001B[43m=\u001B[49m\u001B[43mdtype_sum\u001B[49m\u001B[43m)\u001B[49m\n\u001B[32m    647\u001B[39m the_sum = _maybe_null_out(the_sum, axis, mask, values.shape, min_count=min_count)\n\u001B[32m    649\u001B[39m \u001B[38;5;28;01mreturn\u001B[39;00m the_sum\n",
      "\u001B[36mFile \u001B[39m\u001B[32m~\\PyCharmMiscProject\\Learning Python\\.venv\\Lib\\site-packages\\numpy\\_core\\_methods.py:51\u001B[39m, in \u001B[36m_sum\u001B[39m\u001B[34m(a, axis, dtype, out, keepdims, initial, where)\u001B[39m\n\u001B[32m     49\u001B[39m \u001B[38;5;28;01mdef\u001B[39;00m\u001B[38;5;250m \u001B[39m\u001B[34m_sum\u001B[39m(a, axis=\u001B[38;5;28;01mNone\u001B[39;00m, dtype=\u001B[38;5;28;01mNone\u001B[39;00m, out=\u001B[38;5;28;01mNone\u001B[39;00m, keepdims=\u001B[38;5;28;01mFalse\u001B[39;00m,\n\u001B[32m     50\u001B[39m          initial=_NoValue, where=\u001B[38;5;28;01mTrue\u001B[39;00m):\n\u001B[32m---> \u001B[39m\u001B[32m51\u001B[39m     \u001B[38;5;28;01mreturn\u001B[39;00m \u001B[43mumr_sum\u001B[49m\u001B[43m(\u001B[49m\u001B[43ma\u001B[49m\u001B[43m,\u001B[49m\u001B[43m \u001B[49m\u001B[43maxis\u001B[49m\u001B[43m,\u001B[49m\u001B[43m \u001B[49m\u001B[43mdtype\u001B[49m\u001B[43m,\u001B[49m\u001B[43m \u001B[49m\u001B[43mout\u001B[49m\u001B[43m,\u001B[49m\u001B[43m \u001B[49m\u001B[43mkeepdims\u001B[49m\u001B[43m,\u001B[49m\u001B[43m \u001B[49m\u001B[43minitial\u001B[49m\u001B[43m,\u001B[49m\u001B[43m \u001B[49m\u001B[43mwhere\u001B[49m\u001B[43m)\u001B[49m\n",
      "\u001B[31mTypeError\u001B[39m: can only concatenate str (not \"int\") to str"
     ]
    }
   ],
   "execution_count": 62
  },
  {
   "metadata": {
    "ExecuteTime": {
     "end_time": "2025-10-20T09:52:19.710607Z",
     "start_time": "2025-10-20T09:52:19.702545Z"
    }
   },
   "cell_type": "code",
   "source": [
    "string = pd.Series(['A', 'B', 'C', 'D', 'E',np.nan,'CBA','cow','owl'])\n",
    "string.str.upper()"
   ],
   "id": "638c813afb39050",
   "outputs": [
    {
     "data": {
      "text/plain": [
       "0      A\n",
       "1      B\n",
       "2      C\n",
       "3      D\n",
       "4      E\n",
       "5    NaN\n",
       "6    CBA\n",
       "7    COW\n",
       "8    OWL\n",
       "dtype: object"
      ]
     },
     "execution_count": 63,
     "metadata": {},
     "output_type": "execute_result"
    }
   ],
   "execution_count": 63
  },
  {
   "metadata": {
    "ExecuteTime": {
     "end_time": "2025-10-20T09:53:14.119224Z",
     "start_time": "2025-10-20T09:53:14.111824Z"
    }
   },
   "cell_type": "code",
   "source": [
    "df4=df3.copy()\n",
    "df3.fillna(4)"
   ],
   "id": "c0b88d4d7091399c",
   "outputs": [
    {
     "name": "stderr",
     "output_type": "stream",
     "text": [
      "C:\\Users\\Sunan\\AppData\\Local\\Temp\\ipykernel_19712\\2828641928.py:2: FutureWarning: Downcasting object dtype arrays on .fillna, .ffill, .bfill is deprecated and will change in a future version. Call result.infer_objects(copy=False) instead. To opt-in to the future behavior, set `pd.set_option('future.no_silent_downcasting', True)`\n",
      "  df3.fillna(4)\n"
     ]
    },
    {
     "data": {
      "text/plain": [
       "  animals  age  weight priority\n",
       "a     cat    2     4.5     high\n",
       "b     dog    5    20.2   medium\n",
       "c    bird    3     0.5      low\n",
       "d    fish    1     0.3   medium\n",
       "e       4    4     4.0        4"
      ],
      "text/html": [
       "<div>\n",
       "<style scoped>\n",
       "    .dataframe tbody tr th:only-of-type {\n",
       "        vertical-align: middle;\n",
       "    }\n",
       "\n",
       "    .dataframe tbody tr th {\n",
       "        vertical-align: top;\n",
       "    }\n",
       "\n",
       "    .dataframe thead th {\n",
       "        text-align: right;\n",
       "    }\n",
       "</style>\n",
       "<table border=\"1\" class=\"dataframe\">\n",
       "  <thead>\n",
       "    <tr style=\"text-align: right;\">\n",
       "      <th></th>\n",
       "      <th>animals</th>\n",
       "      <th>age</th>\n",
       "      <th>weight</th>\n",
       "      <th>priority</th>\n",
       "    </tr>\n",
       "  </thead>\n",
       "  <tbody>\n",
       "    <tr>\n",
       "      <th>a</th>\n",
       "      <td>cat</td>\n",
       "      <td>2</td>\n",
       "      <td>4.5</td>\n",
       "      <td>high</td>\n",
       "    </tr>\n",
       "    <tr>\n",
       "      <th>b</th>\n",
       "      <td>dog</td>\n",
       "      <td>5</td>\n",
       "      <td>20.2</td>\n",
       "      <td>medium</td>\n",
       "    </tr>\n",
       "    <tr>\n",
       "      <th>c</th>\n",
       "      <td>bird</td>\n",
       "      <td>3</td>\n",
       "      <td>0.5</td>\n",
       "      <td>low</td>\n",
       "    </tr>\n",
       "    <tr>\n",
       "      <th>d</th>\n",
       "      <td>fish</td>\n",
       "      <td>1</td>\n",
       "      <td>0.3</td>\n",
       "      <td>medium</td>\n",
       "    </tr>\n",
       "    <tr>\n",
       "      <th>e</th>\n",
       "      <td>4</td>\n",
       "      <td>4</td>\n",
       "      <td>4.0</td>\n",
       "      <td>4</td>\n",
       "    </tr>\n",
       "  </tbody>\n",
       "</table>\n",
       "</div>"
      ]
     },
     "execution_count": 65,
     "metadata": {},
     "output_type": "execute_result"
    }
   ],
   "execution_count": 65
  },
  {
   "metadata": {
    "ExecuteTime": {
     "end_time": "2025-10-20T10:08:18.236882Z",
     "start_time": "2025-10-20T10:08:18.227646Z"
    }
   },
   "cell_type": "code",
   "source": "df3.to_csv('animal.csv')",
   "id": "c65a43e39ad8300e",
   "outputs": [],
   "execution_count": 66
  },
  {
   "metadata": {
    "ExecuteTime": {
     "end_time": "2025-10-20T10:09:41.126116Z",
     "start_time": "2025-10-20T10:09:41.118652Z"
    }
   },
   "cell_type": "code",
   "source": [
    "df_animal = pd.read_csv('animal.csv')\n",
    "df_animal.head(3)"
   ],
   "id": "7f3bd960784d4144",
   "outputs": [
    {
     "data": {
      "text/plain": [
       "  Unnamed: 0 animals  age  weight priority\n",
       "0          a     cat  2.0     4.5     high\n",
       "1          b     dog  5.0    20.2   medium\n",
       "2          c    bird  3.0     0.5      low"
      ],
      "text/html": [
       "<div>\n",
       "<style scoped>\n",
       "    .dataframe tbody tr th:only-of-type {\n",
       "        vertical-align: middle;\n",
       "    }\n",
       "\n",
       "    .dataframe tbody tr th {\n",
       "        vertical-align: top;\n",
       "    }\n",
       "\n",
       "    .dataframe thead th {\n",
       "        text-align: right;\n",
       "    }\n",
       "</style>\n",
       "<table border=\"1\" class=\"dataframe\">\n",
       "  <thead>\n",
       "    <tr style=\"text-align: right;\">\n",
       "      <th></th>\n",
       "      <th>Unnamed: 0</th>\n",
       "      <th>animals</th>\n",
       "      <th>age</th>\n",
       "      <th>weight</th>\n",
       "      <th>priority</th>\n",
       "    </tr>\n",
       "  </thead>\n",
       "  <tbody>\n",
       "    <tr>\n",
       "      <th>0</th>\n",
       "      <td>a</td>\n",
       "      <td>cat</td>\n",
       "      <td>2.0</td>\n",
       "      <td>4.5</td>\n",
       "      <td>high</td>\n",
       "    </tr>\n",
       "    <tr>\n",
       "      <th>1</th>\n",
       "      <td>b</td>\n",
       "      <td>dog</td>\n",
       "      <td>5.0</td>\n",
       "      <td>20.2</td>\n",
       "      <td>medium</td>\n",
       "    </tr>\n",
       "    <tr>\n",
       "      <th>2</th>\n",
       "      <td>c</td>\n",
       "      <td>bird</td>\n",
       "      <td>3.0</td>\n",
       "      <td>0.5</td>\n",
       "      <td>low</td>\n",
       "    </tr>\n",
       "  </tbody>\n",
       "</table>\n",
       "</div>"
      ]
     },
     "execution_count": 68,
     "metadata": {},
     "output_type": "execute_result"
    }
   ],
   "execution_count": 68
  },
  {
   "metadata": {
    "ExecuteTime": {
     "end_time": "2025-10-20T10:12:05.784225Z",
     "start_time": "2025-10-20T10:12:05.541020Z"
    }
   },
   "cell_type": "code",
   "source": "df3.to_excel('animal.xlsx', sheet_name='Sheet1')",
   "id": "ce175a94181fb0e7",
   "outputs": [],
   "execution_count": 72
  },
  {
   "metadata": {
    "ExecuteTime": {
     "end_time": "2025-10-20T10:12:55.260602Z",
     "start_time": "2025-10-20T10:12:55.234717Z"
    }
   },
   "cell_type": "code",
   "source": [
    "df_animal2 = pd.read_excel('animal.xlsx', sheet_name='Sheet1')\n",
    "df_animal2"
   ],
   "id": "10f95f50b80db4a",
   "outputs": [
    {
     "data": {
      "text/plain": [
       "  Unnamed: 0 animals  age  weight priority\n",
       "0          a     cat  2.0     4.5     high\n",
       "1          b     dog  5.0    20.2   medium\n",
       "2          c    bird  3.0     0.5      low\n",
       "3          d    fish  1.0     0.3   medium\n",
       "4          e     NaN  NaN     NaN      NaN"
      ],
      "text/html": [
       "<div>\n",
       "<style scoped>\n",
       "    .dataframe tbody tr th:only-of-type {\n",
       "        vertical-align: middle;\n",
       "    }\n",
       "\n",
       "    .dataframe tbody tr th {\n",
       "        vertical-align: top;\n",
       "    }\n",
       "\n",
       "    .dataframe thead th {\n",
       "        text-align: right;\n",
       "    }\n",
       "</style>\n",
       "<table border=\"1\" class=\"dataframe\">\n",
       "  <thead>\n",
       "    <tr style=\"text-align: right;\">\n",
       "      <th></th>\n",
       "      <th>Unnamed: 0</th>\n",
       "      <th>animals</th>\n",
       "      <th>age</th>\n",
       "      <th>weight</th>\n",
       "      <th>priority</th>\n",
       "    </tr>\n",
       "  </thead>\n",
       "  <tbody>\n",
       "    <tr>\n",
       "      <th>0</th>\n",
       "      <td>a</td>\n",
       "      <td>cat</td>\n",
       "      <td>2.0</td>\n",
       "      <td>4.5</td>\n",
       "      <td>high</td>\n",
       "    </tr>\n",
       "    <tr>\n",
       "      <th>1</th>\n",
       "      <td>b</td>\n",
       "      <td>dog</td>\n",
       "      <td>5.0</td>\n",
       "      <td>20.2</td>\n",
       "      <td>medium</td>\n",
       "    </tr>\n",
       "    <tr>\n",
       "      <th>2</th>\n",
       "      <td>c</td>\n",
       "      <td>bird</td>\n",
       "      <td>3.0</td>\n",
       "      <td>0.5</td>\n",
       "      <td>low</td>\n",
       "    </tr>\n",
       "    <tr>\n",
       "      <th>3</th>\n",
       "      <td>d</td>\n",
       "      <td>fish</td>\n",
       "      <td>1.0</td>\n",
       "      <td>0.3</td>\n",
       "      <td>medium</td>\n",
       "    </tr>\n",
       "    <tr>\n",
       "      <th>4</th>\n",
       "      <td>e</td>\n",
       "      <td>NaN</td>\n",
       "      <td>NaN</td>\n",
       "      <td>NaN</td>\n",
       "      <td>NaN</td>\n",
       "    </tr>\n",
       "  </tbody>\n",
       "</table>\n",
       "</div>"
      ]
     },
     "execution_count": 73,
     "metadata": {},
     "output_type": "execute_result"
    }
   ],
   "execution_count": 73
  },
  {
   "metadata": {},
   "cell_type": "code",
   "outputs": [],
   "execution_count": null,
   "source": "",
   "id": "7fd1d4324cf3a33a"
  }
 ],
 "metadata": {
  "kernelspec": {
   "display_name": "Python 3",
   "language": "python",
   "name": "python3"
  },
  "language_info": {
   "codemirror_mode": {
    "name": "ipython",
    "version": 2
   },
   "file_extension": ".py",
   "mimetype": "text/x-python",
   "name": "python",
   "nbconvert_exporter": "python",
   "pygments_lexer": "ipython2",
   "version": "2.7.6"
  }
 },
 "nbformat": 4,
 "nbformat_minor": 5
}
