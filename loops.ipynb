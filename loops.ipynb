{
 "cells": [
  {
   "cell_type": "code",
   "id": "initial_id",
   "metadata": {
    "collapsed": true,
    "ExecuteTime": {
     "end_time": "2025-10-13T09:48:57.872438Z",
     "start_time": "2025-10-13T09:48:51.829197Z"
    }
   },
   "source": [
    "val = int(input(\"Enter a number: \"))\n",
    "while val > 0:\n",
    "    print(\"Current value:\", val)\n",
    "    val -= 1"
   ],
   "outputs": [
    {
     "name": "stdout",
     "output_type": "stream",
     "text": [
      "Current value: 3\n",
      "Current value: 2\n",
      "Current value: 1\n"
     ]
    }
   ],
   "execution_count": 1
  },
  {
   "metadata": {
    "ExecuteTime": {
     "end_time": "2025-10-08T09:55:01.531571Z",
     "start_time": "2025-10-08T09:55:01.528750Z"
    }
   },
   "cell_type": "code",
   "source": "",
   "id": "37cb651c190d6ed3",
   "outputs": [],
   "execution_count": null
  },
  {
   "metadata": {
    "ExecuteTime": {
     "end_time": "2025-10-08T09:55:22.377339Z",
     "start_time": "2025-10-08T09:55:22.374005Z"
    }
   },
   "cell_type": "code",
   "source": [
    "a={'k1':10,'k2':20,'k3':30}\n",
    "print(a)"
   ],
   "id": "fb6e76227baf534e",
   "outputs": [
    {
     "name": "stdout",
     "output_type": "stream",
     "text": [
      "{'k1': 10, 'k2': 20, 'k3': 30}\n"
     ]
    }
   ],
   "execution_count": 1
  },
  {
   "metadata": {
    "ExecuteTime": {
     "end_time": "2025-10-08T09:55:44.228161Z",
     "start_time": "2025-10-08T09:55:44.222654Z"
    }
   },
   "cell_type": "code",
   "source": [
    "a=123\n",
    "type(a)"
   ],
   "id": "7bf71fc1c755a586",
   "outputs": [
    {
     "data": {
      "text/plain": [
       "int"
      ]
     },
     "execution_count": 2,
     "metadata": {},
     "output_type": "execute_result"
    }
   ],
   "execution_count": 2
  },
  {
   "metadata": {
    "ExecuteTime": {
     "end_time": "2025-10-08T09:57:03.584207Z",
     "start_time": "2025-10-08T09:57:03.582202Z"
    }
   },
   "cell_type": "code",
   "source": "",
   "id": "b6bcb06d2ddcfe83",
   "outputs": [],
   "execution_count": null
  },
  {
   "metadata": {
    "ExecuteTime": {
     "end_time": "2025-10-08T09:57:04.538411Z",
     "start_time": "2025-10-08T09:57:04.536497Z"
    }
   },
   "cell_type": "code",
   "source": "",
   "id": "e14b792b24ad6727",
   "outputs": [],
   "execution_count": null
  },
  {
   "metadata": {},
   "cell_type": "code",
   "outputs": [],
   "execution_count": null,
   "source": "",
   "id": "1cf59aaad552475c"
  }
 ],
 "metadata": {
  "kernelspec": {
   "display_name": "Python 3",
   "language": "python",
   "name": "python3"
  },
  "language_info": {
   "codemirror_mode": {
    "name": "ipython",
    "version": 2
   },
   "file_extension": ".py",
   "mimetype": "text/x-python",
   "name": "python",
   "nbconvert_exporter": "python",
   "pygments_lexer": "ipython2",
   "version": "2.7.6"
  }
 },
 "nbformat": 4,
 "nbformat_minor": 5
}
