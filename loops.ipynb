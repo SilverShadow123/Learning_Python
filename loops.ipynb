{
 "cells": [
  {
   "cell_type": "code",
   "id": "initial_id",
   "metadata": {
    "collapsed": true,
    "ExecuteTime": {
     "end_time": "2025-10-13T09:48:57.872438Z",
     "start_time": "2025-10-13T09:48:51.829197Z"
    }
   },
   "source": [
    "val = int(input(\"Enter a number: \"))\n",
    "while val > 0:\n",
    "    print(\"Current value:\", val)\n",
    "    val -= 1"
   ],
   "outputs": [
    {
     "name": "stdout",
     "output_type": "stream",
     "text": [
      "Current value: 3\n",
      "Current value: 2\n",
      "Current value: 1\n"
     ]
    }
   ],
   "execution_count": 1
  },
  {
   "metadata": {
    "ExecuteTime": {
     "end_time": "2025-10-13T10:13:00.320694Z",
     "start_time": "2025-10-13T10:12:45.799666Z"
    }
   },
   "cell_type": "code",
   "source": [
    "val = int(input(\"Enter a number: \"))\n",
    "while val%7 != 0:\n",
    "    val = int(input(\"Enter a number: \"))\n",
    "else:\n",
    "    print(\"You entered a multiple of 7:\", val)"
   ],
   "id": "37cb651c190d6ed3",
   "outputs": [
    {
     "name": "stdout",
     "output_type": "stream",
     "text": [
      "You entered a multiple of 7: 49\n"
     ]
    }
   ],
   "execution_count": 3
  },
  {
   "metadata": {
    "ExecuteTime": {
     "end_time": "2025-10-13T10:15:17.700301Z",
     "start_time": "2025-10-13T10:15:17.690338Z"
    }
   },
   "cell_type": "code",
   "source": [
    "x = [1,2,'a',4.5,5+3j]\n",
    "for i in x:\n",
    "    print(i)"
   ],
   "id": "fb6e76227baf534e",
   "outputs": [
    {
     "name": "stdout",
     "output_type": "stream",
     "text": [
      "1\n",
      "2\n",
      "a\n",
      "4.5\n",
      "(5+3j)\n"
     ]
    }
   ],
   "execution_count": 4
  },
  {
   "metadata": {
    "ExecuteTime": {
     "end_time": "2025-10-13T10:31:19.629509Z",
     "start_time": "2025-10-13T10:31:19.624222Z"
    }
   },
   "cell_type": "code",
   "source": [
    "x = 'Sachin'\n",
    "for i in x:\n",
    "    print(i)\n"
   ],
   "id": "7bf71fc1c755a586",
   "outputs": [
    {
     "name": "stdout",
     "output_type": "stream",
     "text": [
      "S\n",
      "a\n",
      "c\n",
      "h\n",
      "i\n",
      "n\n"
     ]
    }
   ],
   "execution_count": 2
  },
  {
   "metadata": {},
   "cell_type": "markdown",
   "source": [
    "🧠 Step-by-Step Execution (Iteration Flow)\n",
    "🔹 Before looping starts\n",
    "\n",
    "Python has:\n",
    "\n",
    "x = [[1, 2, 3], [4, 5, 6]]\n",
    "\n",
    "\n",
    "So x contains two inner lists:\n",
    "\n",
    "x[0] = [1, 2, 3]\n",
    "x[1] = [4, 5, 6]\n",
    "\n",
    "🌀 Outer Loop – 1st iteration\n",
    "i = [1, 2, 3]\n",
    "\n",
    "\n",
    "Now the inner loop starts for this list.\n",
    "\n",
    "Inner loop → j = 1 → prints 1\n",
    "\n",
    "Inner loop → j = 2 → prints 2\n",
    "\n",
    "Inner loop → j = 3 → prints 3\n",
    "\n",
    "Because you used end='', these print on the same line:\n",
    "\n",
    "123\n",
    "\n",
    "\n",
    "Then print() (the empty one) runs → moves to the next line.\n",
    "\n",
    "🌀 Outer Loop – 2nd iteration\n",
    "i = [4, 5, 6]\n",
    "\n",
    "\n",
    "Now inner loop again for this new list.\n",
    "\n",
    "Inner loop → j = 4 → prints 4\n",
    "\n",
    "Inner loop → j = 5 → prints 5\n",
    "\n",
    "Inner loop → j = 6 → prints 6\n",
    "\n",
    "Same logic → prints 456 on one line.\n",
    "Then print() moves to a new line again.\n",
    "\n",
    "🖨️ Final Output:\n",
    "123\n",
    "456"
   ],
   "id": "c5d6fb4e15e8ccb5"
  },
  {
   "metadata": {
    "ExecuteTime": {
     "end_time": "2025-10-13T10:34:38.172330Z",
     "start_time": "2025-10-13T10:34:38.168311Z"
    }
   },
   "cell_type": "code",
   "source": [
    "x=[[1,2,3],[4,5,6]]\n",
    "for i in x:\n",
    "    for j in i:\n",
    "        print(j, end=' ')\n",
    "    print()"
   ],
   "id": "b6bcb06d2ddcfe83",
   "outputs": [
    {
     "name": "stdout",
     "output_type": "stream",
     "text": [
      "1 2 3 \n",
      "4 5 6 \n"
     ]
    }
   ],
   "execution_count": 3
  },
  {
   "metadata": {
    "ExecuteTime": {
     "end_time": "2025-10-13T10:39:56.194880Z",
     "start_time": "2025-10-13T10:39:56.189785Z"
    }
   },
   "cell_type": "code",
   "source": [
    "x='Hey there. how are you'\n",
    "for i in x:\n",
    "    if i =='.':\n",
    "        break\n",
    "    print(i, end='')"
   ],
   "id": "9e8005ca26689754",
   "outputs": [
    {
     "name": "stdout",
     "output_type": "stream",
     "text": [
      "Hey there"
     ]
    }
   ],
   "execution_count": 4
  },
  {
   "metadata": {
    "ExecuteTime": {
     "end_time": "2025-10-13T10:27:18.498081Z",
     "start_time": "2025-10-13T10:27:18.493080Z"
    }
   },
   "cell_type": "code",
   "source": [
    "for i in range(4):\n",
    "    print(i)"
   ],
   "id": "e14b792b24ad6727",
   "outputs": [
    {
     "name": "stdout",
     "output_type": "stream",
     "text": [
      "0\n",
      "1\n",
      "2\n",
      "3\n"
     ]
    }
   ],
   "execution_count": 1
  },
  {
   "metadata": {
    "ExecuteTime": {
     "end_time": "2025-10-13T11:00:58.531240Z",
     "start_time": "2025-10-13T11:00:58.525302Z"
    }
   },
   "cell_type": "code",
   "source": [
    "for i in [1,2,3,4,10,20,30]:\n",
    "    if i>10:\n",
    "      continue\n",
    "    print(i)"
   ],
   "id": "1cf59aaad552475c",
   "outputs": [
    {
     "name": "stdout",
     "output_type": "stream",
     "text": [
      "1\n",
      "2\n",
      "3\n",
      "4\n",
      "10\n"
     ]
    }
   ],
   "execution_count": 1
  },
  {
   "metadata": {
    "ExecuteTime": {
     "end_time": "2025-10-13T11:02:34.212787Z",
     "start_time": "2025-10-13T11:02:34.208049Z"
    }
   },
   "cell_type": "code",
   "source": [
    "for i in range(0,11,2):\n",
    "    print(i)"
   ],
   "id": "8760d8326c48a413",
   "outputs": [
    {
     "name": "stdout",
     "output_type": "stream",
     "text": [
      "0\n",
      "2\n",
      "4\n",
      "6\n",
      "8\n",
      "10\n"
     ]
    }
   ],
   "execution_count": 2
  },
  {
   "metadata": {
    "ExecuteTime": {
     "end_time": "2025-10-13T11:04:19.913492Z",
     "start_time": "2025-10-13T11:04:19.909027Z"
    }
   },
   "cell_type": "code",
   "source": [
    "sum = 0\n",
    "for i in range(0,21):\n",
    "    if i%2==0:\n",
    "        sum = sum + i\n",
    "print(sum)"
   ],
   "id": "9b75fc271b20e8f9",
   "outputs": [
    {
     "name": "stdout",
     "output_type": "stream",
     "text": [
      "110\n"
     ]
    }
   ],
   "execution_count": 4
  },
  {
   "metadata": {
    "ExecuteTime": {
     "end_time": "2025-10-13T11:06:53.381483Z",
     "start_time": "2025-10-13T11:06:53.377637Z"
    }
   },
   "cell_type": "code",
   "source": [
    "for i in range(6):\n",
    "    for j in range(i):\n",
    "        print('*', end=' ')\n",
    "    print()"
   ],
   "id": "3cb6e501df7f1ed2",
   "outputs": [
    {
     "name": "stdout",
     "output_type": "stream",
     "text": [
      "\n",
      "* \n",
      "* * \n",
      "* * * \n",
      "* * * * \n",
      "* * * * * \n"
     ]
    }
   ],
   "execution_count": 7
  },
  {
   "metadata": {
    "ExecuteTime": {
     "end_time": "2025-10-13T11:22:19.892408Z",
     "start_time": "2025-10-13T11:22:16.935611Z"
    }
   },
   "cell_type": "code",
   "source": [
    "val = int(input(\"Enter a number: \"))\n",
    "for i in range(1,val+1):\n",
    "    for j in range(1,i+1):\n",
    "        print(j, end=' ')\n",
    "    print()"
   ],
   "id": "6eda931f9c2a5e6b",
   "outputs": [
    {
     "name": "stdout",
     "output_type": "stream",
     "text": [
      "1 \n",
      "1 2 \n",
      "1 2 3 \n",
      "1 2 3 4 \n",
      "1 2 3 4 5 \n",
      "1 2 3 4 5 6 \n",
      "1 2 3 4 5 6 7 \n",
      "1 2 3 4 5 6 7 8 \n",
      "1 2 3 4 5 6 7 8 9 \n"
     ]
    }
   ],
   "execution_count": 24
  },
  {
   "metadata": {
    "ExecuteTime": {
     "end_time": "2025-10-13T11:48:47.633132Z",
     "start_time": "2025-10-13T11:48:10.787171Z"
    }
   },
   "cell_type": "code",
   "source": [
    "r = int(input(\"Enter number of rows: \"))\n",
    "c = int(input(\"Enter number of columns: \"))\n",
    "x = []\n",
    "val = []\n",
    "for i in range(0,r):\n",
    "    for j in range(0,c):\n",
    "       val.insert(j, int(input(\"Enter %d * %d value: \"%(i,j))))\n",
    "    x.insert(i, val)\n",
    "    val = []\n",
    "y=[]\n",
    "for i in range(0,r):\n",
    "    for j in range(0,c):\n",
    "        val.insert(j, int(input(\"Enter %d * %d value: \"%(i,j))))\n",
    "    y.insert(i, val)\n",
    "    val = []\n",
    "sum = []\n",
    "for i in range(0,r):\n",
    "    for j in range(0,c):\n",
    "        val.insert(j, x[i][j] + y[i][j])\n",
    "    sum.insert(i, val)\n",
    "    val = []\n",
    "print(sum)"
   ],
   "id": "d428bcb05544741b",
   "outputs": [
    {
     "name": "stdout",
     "output_type": "stream",
     "text": [
      "[[2, 4, 6], [8, 9, 11], [13, 15, 17]]\n"
     ]
    }
   ],
   "execution_count": 29
  },
  {
   "metadata": {},
   "cell_type": "code",
   "outputs": [],
   "execution_count": null,
   "source": "",
   "id": "6fa0565ff8636f21"
  }
 ],
 "metadata": {
  "kernelspec": {
   "display_name": "Python 3",
   "language": "python",
   "name": "python3"
  },
  "language_info": {
   "codemirror_mode": {
    "name": "ipython",
    "version": 2
   },
   "file_extension": ".py",
   "mimetype": "text/x-python",
   "name": "python",
   "nbconvert_exporter": "python",
   "pygments_lexer": "ipython2",
   "version": "2.7.6"
  }
 },
 "nbformat": 4,
 "nbformat_minor": 5
}
